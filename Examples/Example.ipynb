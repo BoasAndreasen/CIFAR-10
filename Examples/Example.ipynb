{
 "metadata": {
  "language_info": {
   "codemirror_mode": {
    "name": "ipython",
    "version": 3
   },
   "file_extension": ".py",
   "mimetype": "text/x-python",
   "name": "python",
   "nbconvert_exporter": "python",
   "pygments_lexer": "ipython3",
   "version": "3.9.4"
  },
  "orig_nbformat": 2,
  "kernelspec": {
   "name": "python394jvsc74a57bd0ac59ebe37160ed0dfa835113d9b8498d9f09ceb179beaac4002f036b9467c963",
   "display_name": "Python 3.9.4 64-bit"
  },
  "metadata": {
   "interpreter": {
    "hash": "ac59ebe37160ed0dfa835113d9b8498d9f09ceb179beaac4002f036b9467c963"
   }
  }
 },
 "nbformat": 4,
 "nbformat_minor": 2,
 "cells": [
  {
   "cell_type": "code",
   "execution_count": 1,
   "metadata": {},
   "outputs": [
    {
     "output_type": "stream",
     "name": "stdout",
     "text": [
      "INFO:tensorflow:Enabling eager execution\n",
      "INFO:tensorflow:Enabling v2 tensorshape\n",
      "INFO:tensorflow:Enabling resource variables\n",
      "INFO:tensorflow:Enabling tensor equality\n",
      "INFO:tensorflow:Enabling control flow v2\n"
     ]
    }
   ],
   "source": [
    "\n",
    "# Example Material Source: https://www.tensorflow.org/tutorials/images/cnn\n",
    "import tensorflow as tf\n",
    "\n",
    "from tensorflow.keras import datasets, layers, models, Sequential\n",
    "from keras.utils import np_utils\n",
    "import matplotlib.pyplot as plt\n",
    "import math\n"
   ]
  },
  {
   "cell_type": "code",
   "execution_count": 2,
   "metadata": {},
   "outputs": [],
   "source": [
    "(train_images, train_labels), (test_images, test_labels) = datasets.cifar10.load_data()\n"
   ]
  },
  {
   "cell_type": "code",
   "execution_count": 3,
   "metadata": {},
   "outputs": [
    {
     "output_type": "stream",
     "name": "stdout",
     "text": [
      "[[0. 0. 0. ... 0. 0. 0.]\n [0. 0. 0. ... 0. 0. 1.]\n [0. 0. 0. ... 0. 0. 1.]\n ...\n [0. 0. 0. ... 0. 0. 1.]\n [0. 1. 0. ... 0. 0. 0.]\n [0. 1. 0. ... 0. 0. 0.]]\n"
     ]
    }
   ],
   "source": [
    "train_images = train_images.reshape(train_images.shape[0], 32, 32, 3)\n",
    "test_images = test_images.reshape(test_images.shape[0], 32, 32, 3)\n",
    "\n",
    "\n",
    "##one hot encoding\n",
    "train_labels = np_utils.to_categorical(train_labels,10)\n",
    "test_labels = np_utils.to_categorical(test_labels,10)\n",
    "print(train_labels)"
   ]
  },
  {
   "cell_type": "code",
   "execution_count": 4,
   "metadata": {},
   "outputs": [],
   "source": [
    "# Normalize pixel values to be between 0 and 1\n",
    "train_images, test_images = train_images / 255.0, test_images / 255.0\n",
    "##train_images, test_images = preProcess(train_images), preProcess(test_images)\n",
    "##train_images, test_images = contrastCurve(train_images), contrastCurve(test_images)\n",
    "\n",
    "class_names = ['airplane', 'automobile', 'bird', 'cat', 'deer',\n",
    "               'dog', 'frog', 'horse', 'ship', 'truck']\n"
   ]
  },
  {
   "cell_type": "code",
   "execution_count": 5,
   "metadata": {},
   "outputs": [],
   "source": [
    "## Transforming images to get a larger test set\n",
    "\n",
    "data_augmentation = Sequential(\n",
    "  [\n",
    "    layers.experimental.preprocessing.RandomFlip(\"horizontal\",\n",
    "    input_shape=(32,32,3)),\n",
    "    layers.experimental.preprocessing.RandomRotation(0.09),\n",
    "    layers.experimental.preprocessing.RandomZoom(0.05),\n",
    "    ##layers.experimental.preprocessing.RandomContrast(0.1),\n",
    "  ]\n",
    ")"
   ]
  },
  {
   "cell_type": "code",
   "execution_count": 7,
   "metadata": {},
   "outputs": [],
   "source": [
    "##tf.keras.layers.Conv2D(\n",
    "##    filters, kernel_size, strides=(1, 1), padding='valid',\n",
    "##    data_format=None, dilation_rate=(1, 1), groups=1, activation=None,\n",
    "##    use_bias=True, kernel_initializer='glorot_uniform',\n",
    "##    bias_initializer='zeros', kernel_regularizer=None,\n",
    "##    bias_regularizer=None, activity_regularizer=None, kernel_constraint=None,\n",
    "##    bias_constraint=None, **kwargs\n",
    "##)\n",
    "\n",
    "\"\"\"\n",
    "model = models.Sequential()\n",
    "model.add(layers.Conv2D(32, (2, 2), activation='relu', input_shape=(32, 32, 3)))\n",
    "model.add(layers.Conv2D(32, (6, 6), activation='relu', input_shape=(32, 32, 3)))\n",
    "model.add(layers.MaxPooling2D((2, 2)))\n",
    "model.add(layers.Conv2D(64, (2, 2), activation='relu'))\n",
    "model.add(layers.Conv2D(64, (3, 3), activation='relu')) ## 4,4 gets 71%\n",
    "model.add(layers.MaxPooling2D((3, 3)))\n",
    "\n",
    "## This above model generates a result of 0.7159000039100647\n",
    "\n",
    "\"\"\"\n",
    "\n",
    "\"\"\"\n",
    "model = models.Sequential()\n",
    "model.add(layers.Conv2D(32, (2, 2), activation='relu', input_shape=(32, 32, 3),padding=\"same\"))\n",
    "model.add(layers.Conv2D(32, (6, 6), activation='relu', input_shape=(32, 32, 3),padding=\"same\"))\n",
    "model.add(layers.MaxPooling2D((5, 5),padding = \"same\"))\n",
    "model.add(layers.Conv2D(64, (2, 2), activation='relu',padding =\"same\"))\n",
    "model.add(layers.Conv2D(64, (6, 6), activation='relu',padding = \"same\")) ## 4,4 gets 71%\n",
    "model.add(layers.MaxPooling2D((2, 2),padding = \"same\"))\n",
    "\"\"\"\n",
    "\n",
    "# 3,4,4 0.7516999840736389\n",
    "\"\"\"\n",
    "##Breaks 90% but over fits too much\n",
    "model = models.Sequential()\n",
    "##model.add(data_augmentation)\n",
    "\n",
    "model.add(layers.Conv2D(64,2,activation='relu', input_shape=(32, 32, 3),padding=\"same\"))\n",
    "##model.add(layers.Conv2D(64,3,activation='relu',padding=\"same\"))\n",
    "model.add(layers.Dropout(0.15))\n",
    "\n",
    "model.add(layers.MaxPooling2D())\n",
    "model.add(layers.Conv2D(256,3,activation = \"relu\",padding = \"same\"))\n",
    "model.add(layers.Dropout(0.15))\n",
    "##model.add(layers.MaxPooling2D())\n",
    "model.add(layers.Conv2D(256,3,activation = \"relu\",padding = \"same\"))\n",
    "model.add(layers.Dropout(0.15))\n",
    "\n",
    "\"\"\"\n",
    "network_scale = 0.75\n",
    "model = models.Sequential()\n",
    "model.add(data_augmentation)\n",
    "\n",
    "model.add(layers.Conv2D(int(64*network_scale),3,activation='relu',padding = \"same\", input_shape=(32, 32, 3)))\n",
    "model.add(layers.Conv2D(int(128*network_scale),3,activation='relu',padding = \"same\", input_shape=(32, 32, 3)))\n",
    "\n",
    "model.add(layers.MaxPooling2D())\n",
    "model.add(layers.Conv2D(int(128*network_scale),3,activation = \"relu\",padding = \"same\"))\n",
    "model.add(layers.Conv2D(int(256*network_scale),3,activation = \"relu\",padding = \"same\"))\n",
    "model.add(layers.Dropout(0.2))\n",
    "\n",
    "model.add(layers.MaxPooling2D())\n",
    "model.add(layers.Conv2D(int(512*network_scale),3,activation = \"relu\",padding = \"same\"))\n",
    "model.add(layers.Conv2D(int(1024*network_scale),3,activation = \"relu\",padding = \"same\"))\n",
    "model.add(layers.Conv2D(int(1536*network_scale),3,activation = \"relu\",padding = \"same\"))\n",
    "model.add(layers.Dropout(0.25))\n",
    "\n"
   ]
  },
  {
   "cell_type": "code",
   "execution_count": 8,
   "metadata": {},
   "outputs": [
    {
     "output_type": "stream",
     "name": "stdout",
     "text": [
      "Model: \"sequential_1\"\n_________________________________________________________________\nLayer (type)                 Output Shape              Param #   \n=================================================================\nsequential (Sequential)      (None, 32, 32, 3)         0         \n_________________________________________________________________\nconv2d (Conv2D)              (None, 32, 32, 48)        1344      \n_________________________________________________________________\nconv2d_1 (Conv2D)            (None, 32, 32, 96)        41568     \n_________________________________________________________________\nmax_pooling2d (MaxPooling2D) (None, 16, 16, 96)        0         \n_________________________________________________________________\nconv2d_2 (Conv2D)            (None, 16, 16, 96)        83040     \n_________________________________________________________________\nconv2d_3 (Conv2D)            (None, 16, 16, 192)       166080    \n_________________________________________________________________\ndropout (Dropout)            (None, 16, 16, 192)       0         \n_________________________________________________________________\nmax_pooling2d_1 (MaxPooling2 (None, 8, 8, 192)         0         \n_________________________________________________________________\nconv2d_4 (Conv2D)            (None, 8, 8, 384)         663936    \n_________________________________________________________________\nconv2d_5 (Conv2D)            (None, 8, 8, 768)         2654976   \n_________________________________________________________________\nconv2d_6 (Conv2D)            (None, 8, 8, 1152)        7963776   \n_________________________________________________________________\ndropout_1 (Dropout)          (None, 8, 8, 1152)        0         \n=================================================================\nTotal params: 11,574,720\nTrainable params: 11,574,720\nNon-trainable params: 0\n_________________________________________________________________\n"
     ]
    }
   ],
   "source": [
    "model.summary()"
   ]
  },
  {
   "cell_type": "code",
   "execution_count": 9,
   "metadata": {},
   "outputs": [],
   "source": [
    "stage2_scale = 1\n",
    "model.add(layers.Flatten())\n",
    "model.add(layers.Dense(int(1024*stage2_scale), activation='relu'))\n",
    "model.add(layers.Dense(int(1024*stage2_scale), activation='relu'))\n",
    "model.add(layers.Dropout(0.6))\n",
    "model.add(layers.Dense(int(512*stage2_scale),activation='relu'))\n",
    "model.add(layers.Dropout(0.3))\n",
    "model.add(layers.Dense(10,activation=\"softmax\"))\n",
    "##Adding dropout to reduice overfitting\n",
    "#model.add(layers.Dropout(0.15))\n"
   ]
  },
  {
   "cell_type": "code",
   "execution_count": 9,
   "metadata": {},
   "outputs": [
    {
     "output_type": "stream",
     "name": "stdout",
     "text": [
      "Model: \"sequential_1\"\n_________________________________________________________________\nLayer (type)                 Output Shape              Param #   \n=================================================================\nsequential (Sequential)      (None, 32, 32, 3)         0         \n_________________________________________________________________\nconv2d (Conv2D)              (None, 32, 32, 48)        1344      \n_________________________________________________________________\nconv2d_1 (Conv2D)            (None, 32, 32, 96)        41568     \n_________________________________________________________________\nmax_pooling2d (MaxPooling2D) (None, 16, 16, 96)        0         \n_________________________________________________________________\nconv2d_2 (Conv2D)            (None, 16, 16, 96)        83040     \n_________________________________________________________________\nconv2d_3 (Conv2D)            (None, 16, 16, 192)       166080    \n_________________________________________________________________\ndropout (Dropout)            (None, 16, 16, 192)       0         \n_________________________________________________________________\nmax_pooling2d_1 (MaxPooling2 (None, 8, 8, 192)         0         \n_________________________________________________________________\nconv2d_4 (Conv2D)            (None, 8, 8, 384)         663936    \n_________________________________________________________________\nconv2d_5 (Conv2D)            (None, 8, 8, 768)         2654976   \n_________________________________________________________________\nconv2d_6 (Conv2D)            (None, 8, 8, 1152)        7963776   \n_________________________________________________________________\ndropout_1 (Dropout)          (None, 8, 8, 1152)        0         \n_________________________________________________________________\nflatten (Flatten)            (None, 73728)             0         \n_________________________________________________________________\ndense (Dense)                (None, 1024)              75498496  \n_________________________________________________________________\ndense_1 (Dense)              (None, 1024)              1049600   \n_________________________________________________________________\ndropout_2 (Dropout)          (None, 1024)              0         \n_________________________________________________________________\ndense_2 (Dense)              (None, 512)               524800    \n_________________________________________________________________\ndropout_3 (Dropout)          (None, 512)               0         \n_________________________________________________________________\ndense_3 (Dense)              (None, 10)                5130      \n=================================================================\nTotal params: 88,652,746\nTrainable params: 88,652,746\nNon-trainable params: 0\n_________________________________________________________________\n"
     ]
    }
   ],
   "source": [
    "model.summary()"
   ]
  },
  {
   "cell_type": "code",
   "execution_count": 10,
   "metadata": {},
   "outputs": [
    {
     "output_type": "stream",
     "name": "stdout",
     "text": [
      "Epoch 1/100\n",
      "200/200 [==============================] - 61s 258ms/step - loss: 2.3177 - accuracy: 0.1338 - val_loss: 1.6956 - val_accuracy: 0.3620\n",
      "Epoch 2/100\n",
      "200/200 [==============================] - 51s 257ms/step - loss: 1.6900 - accuracy: 0.3710 - val_loss: 1.3590 - val_accuracy: 0.5035\n",
      "Epoch 3/100\n",
      "200/200 [==============================] - 52s 258ms/step - loss: 1.4298 - accuracy: 0.4789 - val_loss: 1.2403 - val_accuracy: 0.5420\n",
      "Epoch 4/100\n",
      "200/200 [==============================] - 51s 257ms/step - loss: 1.2795 - accuracy: 0.5443 - val_loss: 1.2013 - val_accuracy: 0.5674\n",
      "Epoch 5/100\n",
      "200/200 [==============================] - 51s 257ms/step - loss: 1.1739 - accuracy: 0.5859 - val_loss: 1.0791 - val_accuracy: 0.6101\n",
      "Epoch 6/100\n",
      "200/200 [==============================] - 51s 257ms/step - loss: 1.1042 - accuracy: 0.6113 - val_loss: 0.9372 - val_accuracy: 0.6670\n",
      "Epoch 7/100\n",
      "200/200 [==============================] - 51s 257ms/step - loss: 1.0134 - accuracy: 0.6435 - val_loss: 0.9668 - val_accuracy: 0.6586\n",
      "Epoch 8/100\n",
      "200/200 [==============================] - 51s 257ms/step - loss: 0.9607 - accuracy: 0.6632 - val_loss: 0.8987 - val_accuracy: 0.6805\n",
      "Epoch 9/100\n",
      "200/200 [==============================] - 51s 257ms/step - loss: 0.9074 - accuracy: 0.6864 - val_loss: 0.8314 - val_accuracy: 0.7066\n",
      "Epoch 10/100\n",
      "200/200 [==============================] - 51s 257ms/step - loss: 0.8488 - accuracy: 0.7053 - val_loss: 0.8242 - val_accuracy: 0.7170\n",
      "Epoch 11/100\n",
      "200/200 [==============================] - 51s 257ms/step - loss: 0.8117 - accuracy: 0.7189 - val_loss: 0.7795 - val_accuracy: 0.7270\n",
      "Epoch 12/100\n",
      "200/200 [==============================] - 51s 257ms/step - loss: 0.7713 - accuracy: 0.7347 - val_loss: 0.7711 - val_accuracy: 0.7355\n",
      "Epoch 13/100\n",
      "200/200 [==============================] - 52s 258ms/step - loss: 0.7606 - accuracy: 0.7404 - val_loss: 0.7871 - val_accuracy: 0.7298\n",
      "Epoch 14/100\n",
      "200/200 [==============================] - 52s 258ms/step - loss: 0.7257 - accuracy: 0.7478 - val_loss: 0.7013 - val_accuracy: 0.7614\n",
      "Epoch 15/100\n",
      "200/200 [==============================] - 51s 257ms/step - loss: 0.6940 - accuracy: 0.7608 - val_loss: 0.6918 - val_accuracy: 0.7601\n",
      "Epoch 16/100\n",
      "200/200 [==============================] - 52s 258ms/step - loss: 0.6773 - accuracy: 0.7655 - val_loss: 0.6787 - val_accuracy: 0.7677\n",
      "Epoch 17/100\n",
      "200/200 [==============================] - 52s 258ms/step - loss: 0.6694 - accuracy: 0.7683 - val_loss: 0.7022 - val_accuracy: 0.7611\n",
      "Epoch 18/100\n",
      "200/200 [==============================] - 51s 257ms/step - loss: 0.6354 - accuracy: 0.7837 - val_loss: 0.6804 - val_accuracy: 0.7684\n",
      "Epoch 19/100\n",
      "200/200 [==============================] - 51s 253ms/step - loss: 0.6174 - accuracy: 0.7893 - val_loss: 0.6507 - val_accuracy: 0.7798\n",
      "Epoch 20/100\n",
      "200/200 [==============================] - 51s 253ms/step - loss: 0.6120 - accuracy: 0.7894 - val_loss: 0.6598 - val_accuracy: 0.7784\n",
      "Epoch 21/100\n",
      "200/200 [==============================] - 51s 253ms/step - loss: 0.5974 - accuracy: 0.7966 - val_loss: 0.6584 - val_accuracy: 0.7784\n",
      "Epoch 22/100\n",
      "200/200 [==============================] - 51s 254ms/step - loss: 0.5795 - accuracy: 0.8036 - val_loss: 0.6441 - val_accuracy: 0.7831\n",
      "Epoch 23/100\n",
      "200/200 [==============================] - 51s 254ms/step - loss: 0.5660 - accuracy: 0.8075 - val_loss: 0.6468 - val_accuracy: 0.7881\n",
      "Epoch 24/100\n",
      "200/200 [==============================] - 51s 254ms/step - loss: 0.5432 - accuracy: 0.8139 - val_loss: 0.5852 - val_accuracy: 0.8035\n",
      "Epoch 25/100\n",
      "200/200 [==============================] - 51s 254ms/step - loss: 0.5336 - accuracy: 0.8143 - val_loss: 0.6153 - val_accuracy: 0.7956\n",
      "Epoch 26/100\n",
      "200/200 [==============================] - 51s 254ms/step - loss: 0.5326 - accuracy: 0.8176 - val_loss: 0.6098 - val_accuracy: 0.8011\n",
      "Epoch 27/100\n",
      "200/200 [==============================] - 51s 254ms/step - loss: 0.5257 - accuracy: 0.8198 - val_loss: 0.6096 - val_accuracy: 0.7956\n",
      "Epoch 28/100\n",
      "200/200 [==============================] - 51s 254ms/step - loss: 0.5021 - accuracy: 0.8262 - val_loss: 0.5497 - val_accuracy: 0.8139\n",
      "Epoch 29/100\n",
      "200/200 [==============================] - 51s 254ms/step - loss: 0.4854 - accuracy: 0.8322 - val_loss: 0.5831 - val_accuracy: 0.8084\n",
      "Epoch 30/100\n",
      "200/200 [==============================] - 51s 254ms/step - loss: 0.4888 - accuracy: 0.8335 - val_loss: 0.6018 - val_accuracy: 0.8001\n",
      "Epoch 31/100\n",
      "200/200 [==============================] - 51s 254ms/step - loss: 0.4846 - accuracy: 0.8340 - val_loss: 0.6111 - val_accuracy: 0.8016\n",
      "Epoch 32/100\n",
      "200/200 [==============================] - 51s 254ms/step - loss: 0.4631 - accuracy: 0.8409 - val_loss: 0.6439 - val_accuracy: 0.7934\n",
      "Epoch 33/100\n",
      "200/200 [==============================] - 51s 254ms/step - loss: 0.4659 - accuracy: 0.8417 - val_loss: 0.6145 - val_accuracy: 0.7984\n",
      "Epoch 34/100\n",
      "200/200 [==============================] - 51s 254ms/step - loss: 0.4536 - accuracy: 0.8426 - val_loss: 0.5703 - val_accuracy: 0.8114\n",
      "Epoch 35/100\n",
      "200/200 [==============================] - 51s 254ms/step - loss: 0.4611 - accuracy: 0.8439 - val_loss: 0.5828 - val_accuracy: 0.8052\n",
      "Epoch 36/100\n",
      "200/200 [==============================] - 51s 254ms/step - loss: 0.4374 - accuracy: 0.8519 - val_loss: 0.5988 - val_accuracy: 0.8080\n",
      "Epoch 37/100\n",
      "200/200 [==============================] - 51s 254ms/step - loss: 0.4442 - accuracy: 0.8475 - val_loss: 0.5865 - val_accuracy: 0.8124\n",
      "Epoch 38/100\n",
      "200/200 [==============================] - 51s 254ms/step - loss: 0.4389 - accuracy: 0.8483 - val_loss: 0.5966 - val_accuracy: 0.8117\n",
      "Epoch 39/100\n",
      "200/200 [==============================] - 51s 254ms/step - loss: 0.4183 - accuracy: 0.8567 - val_loss: 0.5725 - val_accuracy: 0.8162\n",
      "Epoch 40/100\n",
      "200/200 [==============================] - 51s 254ms/step - loss: 0.4154 - accuracy: 0.8573 - val_loss: 0.5679 - val_accuracy: 0.8166\n",
      "Epoch 41/100\n",
      "200/200 [==============================] - 51s 254ms/step - loss: 0.4164 - accuracy: 0.8572 - val_loss: 0.6139 - val_accuracy: 0.8057\n",
      "Epoch 42/100\n",
      "200/200 [==============================] - 51s 254ms/step - loss: 0.4073 - accuracy: 0.8650 - val_loss: 0.6040 - val_accuracy: 0.8081\n",
      "Epoch 43/100\n",
      "200/200 [==============================] - 51s 254ms/step - loss: 0.4029 - accuracy: 0.8633 - val_loss: 0.5767 - val_accuracy: 0.8146\n",
      "Epoch 44/100\n",
      "200/200 [==============================] - 51s 254ms/step - loss: 0.3999 - accuracy: 0.8637 - val_loss: 0.5999 - val_accuracy: 0.8048\n",
      "Epoch 45/100\n",
      "200/200 [==============================] - 51s 254ms/step - loss: 0.3795 - accuracy: 0.8703 - val_loss: 0.5639 - val_accuracy: 0.8162\n",
      "Epoch 46/100\n",
      "200/200 [==============================] - 51s 254ms/step - loss: 0.3845 - accuracy: 0.8704 - val_loss: 0.5742 - val_accuracy: 0.8156\n",
      "Epoch 47/100\n",
      "200/200 [==============================] - 51s 254ms/step - loss: 0.3800 - accuracy: 0.8715 - val_loss: 0.5863 - val_accuracy: 0.8133\n",
      "Epoch 48/100\n",
      "200/200 [==============================] - 51s 254ms/step - loss: 0.3909 - accuracy: 0.8680 - val_loss: 0.5975 - val_accuracy: 0.8066\n",
      "Epoch 49/100\n",
      "200/200 [==============================] - 51s 254ms/step - loss: 0.3657 - accuracy: 0.8736 - val_loss: 0.5786 - val_accuracy: 0.8159\n",
      "Epoch 50/100\n",
      "200/200 [==============================] - 51s 254ms/step - loss: 0.3730 - accuracy: 0.8727 - val_loss: 0.5895 - val_accuracy: 0.8103\n",
      "Epoch 51/100\n",
      "200/200 [==============================] - 51s 254ms/step - loss: 0.3654 - accuracy: 0.8777 - val_loss: 0.5872 - val_accuracy: 0.8162\n",
      "Epoch 52/100\n",
      "200/200 [==============================] - 52s 261ms/step - loss: 0.3495 - accuracy: 0.8797 - val_loss: 0.5988 - val_accuracy: 0.8167\n",
      "Epoch 53/100\n",
      "200/200 [==============================] - 51s 257ms/step - loss: 0.3546 - accuracy: 0.8809 - val_loss: 0.6087 - val_accuracy: 0.8047\n",
      "Epoch 54/100\n",
      "200/200 [==============================] - 51s 256ms/step - loss: 0.3479 - accuracy: 0.8811 - val_loss: 0.6017 - val_accuracy: 0.8130\n",
      "Epoch 55/100\n",
      "200/200 [==============================] - 51s 257ms/step - loss: 0.3524 - accuracy: 0.8823 - val_loss: 0.5999 - val_accuracy: 0.8153\n",
      "Epoch 56/100\n",
      "200/200 [==============================] - 52s 258ms/step - loss: 0.3402 - accuracy: 0.8841 - val_loss: 0.5503 - val_accuracy: 0.8253\n",
      "Epoch 57/100\n",
      "200/200 [==============================] - 52s 258ms/step - loss: 0.3442 - accuracy: 0.8847 - val_loss: 0.5579 - val_accuracy: 0.8250\n",
      "Epoch 58/100\n",
      "200/200 [==============================] - 51s 256ms/step - loss: 0.3354 - accuracy: 0.8901 - val_loss: 0.5928 - val_accuracy: 0.8096\n",
      "Epoch 59/100\n",
      "200/200 [==============================] - 51s 256ms/step - loss: 0.3314 - accuracy: 0.8894 - val_loss: 0.5775 - val_accuracy: 0.8215\n",
      "Epoch 60/100\n",
      "200/200 [==============================] - 51s 256ms/step - loss: 0.3347 - accuracy: 0.8881 - val_loss: 0.5511 - val_accuracy: 0.8291\n",
      "Epoch 61/100\n",
      "200/200 [==============================] - 51s 254ms/step - loss: 0.3228 - accuracy: 0.8926 - val_loss: 0.5721 - val_accuracy: 0.8229\n",
      "Epoch 62/100\n",
      "200/200 [==============================] - 51s 254ms/step - loss: 0.3240 - accuracy: 0.8903 - val_loss: 0.5535 - val_accuracy: 0.8191\n",
      "Epoch 63/100\n",
      "200/200 [==============================] - 51s 254ms/step - loss: 0.3266 - accuracy: 0.8879 - val_loss: 0.5622 - val_accuracy: 0.8262\n",
      "Epoch 64/100\n",
      "200/200 [==============================] - 51s 254ms/step - loss: 0.3074 - accuracy: 0.8981 - val_loss: 0.5679 - val_accuracy: 0.8282\n",
      "Epoch 65/100\n",
      "200/200 [==============================] - 51s 254ms/step - loss: 0.3119 - accuracy: 0.8952 - val_loss: 0.5824 - val_accuracy: 0.8150\n",
      "Epoch 66/100\n",
      "200/200 [==============================] - 51s 254ms/step - loss: 0.3279 - accuracy: 0.8914 - val_loss: 0.6071 - val_accuracy: 0.8107\n",
      "Epoch 67/100\n",
      "200/200 [==============================] - 51s 254ms/step - loss: 0.3209 - accuracy: 0.8931 - val_loss: 0.5732 - val_accuracy: 0.8201\n",
      "Epoch 68/100\n",
      "200/200 [==============================] - 51s 254ms/step - loss: 0.2934 - accuracy: 0.9016 - val_loss: 0.5601 - val_accuracy: 0.8241\n",
      "Epoch 69/100\n",
      "200/200 [==============================] - 51s 254ms/step - loss: 0.3110 - accuracy: 0.8975 - val_loss: 0.5802 - val_accuracy: 0.8188\n",
      "Epoch 70/100\n",
      "200/200 [==============================] - 51s 253ms/step - loss: 0.2883 - accuracy: 0.9025 - val_loss: 0.5762 - val_accuracy: 0.8243\n",
      "Epoch 71/100\n",
      "200/200 [==============================] - 51s 253ms/step - loss: 0.3041 - accuracy: 0.8999 - val_loss: 0.6069 - val_accuracy: 0.8219\n",
      "Epoch 72/100\n",
      "200/200 [==============================] - 51s 253ms/step - loss: 0.2927 - accuracy: 0.9029 - val_loss: 0.5780 - val_accuracy: 0.8255\n",
      "Epoch 73/100\n",
      "200/200 [==============================] - 51s 253ms/step - loss: 0.2968 - accuracy: 0.9028 - val_loss: 0.5532 - val_accuracy: 0.8295\n",
      "Epoch 74/100\n",
      "200/200 [==============================] - 51s 253ms/step - loss: 0.2964 - accuracy: 0.9031 - val_loss: 0.5814 - val_accuracy: 0.8257\n",
      "Epoch 75/100\n",
      "200/200 [==============================] - 51s 253ms/step - loss: 0.2863 - accuracy: 0.9050 - val_loss: 0.5550 - val_accuracy: 0.8307\n",
      "Epoch 76/100\n",
      "200/200 [==============================] - 51s 253ms/step - loss: 0.2870 - accuracy: 0.9048 - val_loss: 0.5596 - val_accuracy: 0.8329\n",
      "Epoch 77/100\n",
      "200/200 [==============================] - 51s 253ms/step - loss: 0.2766 - accuracy: 0.9086 - val_loss: 0.5891 - val_accuracy: 0.8217\n",
      "Epoch 78/100\n",
      "200/200 [==============================] - 51s 253ms/step - loss: 0.3010 - accuracy: 0.9035 - val_loss: 0.5886 - val_accuracy: 0.8184\n",
      "Epoch 79/100\n",
      "200/200 [==============================] - 51s 253ms/step - loss: 0.2757 - accuracy: 0.9083 - val_loss: 0.5764 - val_accuracy: 0.8242\n",
      "Epoch 80/100\n",
      "200/200 [==============================] - 51s 253ms/step - loss: 0.2860 - accuracy: 0.9053 - val_loss: 0.5555 - val_accuracy: 0.8274\n",
      "Epoch 81/100\n",
      "200/200 [==============================] - 51s 253ms/step - loss: 0.2711 - accuracy: 0.9088 - val_loss: 0.5847 - val_accuracy: 0.8246\n",
      "Epoch 82/100\n",
      "200/200 [==============================] - 51s 253ms/step - loss: 0.2707 - accuracy: 0.9125 - val_loss: 0.6318 - val_accuracy: 0.8143\n",
      "Epoch 83/100\n",
      "200/200 [==============================] - 51s 253ms/step - loss: 0.2706 - accuracy: 0.9115 - val_loss: 0.5614 - val_accuracy: 0.8220\n",
      "Epoch 84/100\n",
      "200/200 [==============================] - 51s 253ms/step - loss: 0.2761 - accuracy: 0.9101 - val_loss: 0.5859 - val_accuracy: 0.8304\n",
      "Epoch 85/100\n",
      "200/200 [==============================] - 51s 253ms/step - loss: 0.2671 - accuracy: 0.9133 - val_loss: 0.6510 - val_accuracy: 0.8090\n",
      "Epoch 86/100\n",
      "200/200 [==============================] - 51s 253ms/step - loss: 0.2605 - accuracy: 0.9152 - val_loss: 0.5974 - val_accuracy: 0.8198\n",
      "Epoch 87/100\n",
      "200/200 [==============================] - 51s 253ms/step - loss: 0.2676 - accuracy: 0.9101 - val_loss: 0.5970 - val_accuracy: 0.8230\n",
      "Epoch 88/100\n",
      "200/200 [==============================] - 51s 253ms/step - loss: 0.2691 - accuracy: 0.9126 - val_loss: 0.5813 - val_accuracy: 0.8246\n",
      "Epoch 89/100\n",
      "200/200 [==============================] - 51s 253ms/step - loss: 0.2584 - accuracy: 0.9158 - val_loss: 0.5804 - val_accuracy: 0.8284\n",
      "Epoch 90/100\n",
      "200/200 [==============================] - 51s 253ms/step - loss: 0.2542 - accuracy: 0.9196 - val_loss: 0.5825 - val_accuracy: 0.8252\n",
      "Epoch 91/100\n",
      "200/200 [==============================] - 51s 253ms/step - loss: 0.2537 - accuracy: 0.9183 - val_loss: 0.6079 - val_accuracy: 0.8219\n",
      "Epoch 92/100\n",
      "200/200 [==============================] - 51s 253ms/step - loss: 0.2581 - accuracy: 0.9160 - val_loss: 0.5761 - val_accuracy: 0.8251\n",
      "Epoch 93/100\n",
      "200/200 [==============================] - 51s 253ms/step - loss: 0.2603 - accuracy: 0.9170 - val_loss: 0.5857 - val_accuracy: 0.8267\n",
      "Epoch 94/100\n",
      "200/200 [==============================] - 51s 253ms/step - loss: 0.2586 - accuracy: 0.9177 - val_loss: 0.5675 - val_accuracy: 0.8256\n",
      "Epoch 95/100\n",
      "200/200 [==============================] - 51s 253ms/step - loss: 0.2462 - accuracy: 0.9203 - val_loss: 0.6109 - val_accuracy: 0.8172\n",
      "Epoch 96/100\n",
      "200/200 [==============================] - 51s 253ms/step - loss: 0.2480 - accuracy: 0.9205 - val_loss: 0.6079 - val_accuracy: 0.8242\n",
      "Epoch 97/100\n",
      "200/200 [==============================] - 51s 253ms/step - loss: 0.2380 - accuracy: 0.9230 - val_loss: 0.6390 - val_accuracy: 0.8197\n",
      "Epoch 98/100\n",
      "200/200 [==============================] - 51s 253ms/step - loss: 0.2722 - accuracy: 0.9130 - val_loss: 0.5933 - val_accuracy: 0.8254\n",
      "Epoch 99/100\n",
      "200/200 [==============================] - 51s 253ms/step - loss: 0.2564 - accuracy: 0.9196 - val_loss: 0.5817 - val_accuracy: 0.8351\n",
      "Epoch 100/100\n",
      "200/200 [==============================] - 51s 253ms/step - loss: 0.2567 - accuracy: 0.9191 - val_loss: 0.6113 - val_accuracy: 0.8252\n"
     ]
    }
   ],
   "source": [
    "##model.compile(optimizer='adam',loss=tf.keras.losses.SparseCategoricalCrossentropy(from_logits=True),metrics=['accuracy'])\n",
    "model.compile(optimizer='adam',\n",
    "              loss= \"categorical_crossentropy\",\n",
    "              metrics=['accuracy'])\n",
    "             \n",
    "\n",
    "history = model.fit(train_images, train_labels,batch_size=250,  epochs=100, \n",
    "                    validation_data=(test_images, test_labels))"
   ]
  },
  {
   "cell_type": "code",
   "execution_count": 11,
   "metadata": {},
   "outputs": [
    {
     "output_type": "stream",
     "name": "stdout",
     "text": [
      "313/313 - 7s - loss: 0.6113 - accuracy: 0.8252\n"
     ]
    },
    {
     "output_type": "display_data",
     "data": {
      "text/plain": "<Figure size 432x288 with 1 Axes>",
      "image/svg+xml": "<?xml version=\"1.0\" encoding=\"utf-8\" standalone=\"no\"?>\r\n<!DOCTYPE svg PUBLIC \"-//W3C//DTD SVG 1.1//EN\"\r\n  \"http://www.w3.org/Graphics/SVG/1.1/DTD/svg11.dtd\">\r\n<svg height=\"265.995469pt\" version=\"1.1\" viewBox=\"0 0 385.78125 265.995469\" width=\"385.78125pt\" xmlns=\"http://www.w3.org/2000/svg\" xmlns:xlink=\"http://www.w3.org/1999/xlink\">\r\n <metadata>\r\n  <rdf:RDF xmlns:cc=\"http://creativecommons.org/ns#\" xmlns:dc=\"http://purl.org/dc/elements/1.1/\" xmlns:rdf=\"http://www.w3.org/1999/02/22-rdf-syntax-ns#\">\r\n   <cc:Work>\r\n    <dc:type rdf:resource=\"http://purl.org/dc/dcmitype/StillImage\"/>\r\n    <dc:date>2021-04-29T21:47:40.144687</dc:date>\r\n    <dc:format>image/svg+xml</dc:format>\r\n    <dc:creator>\r\n     <cc:Agent>\r\n      <dc:title>Matplotlib v3.4.1, https://matplotlib.org/</dc:title>\r\n     </cc:Agent>\r\n    </dc:creator>\r\n   </cc:Work>\r\n  </rdf:RDF>\r\n </metadata>\r\n <defs>\r\n  <style type=\"text/css\">*{stroke-linecap:butt;stroke-linejoin:round;}</style>\r\n </defs>\r\n <g id=\"figure_1\">\r\n  <g id=\"patch_1\">\r\n   <path d=\"M 0 265.995469 \r\nL 385.78125 265.995469 \r\nL 385.78125 0 \r\nL 0 0 \r\nz\r\n\" style=\"fill:none;\"/>\r\n  </g>\r\n  <g id=\"axes_1\">\r\n   <g id=\"patch_2\">\r\n    <path d=\"M 43.78125 228.439219 \r\nL 378.58125 228.439219 \r\nL 378.58125 10.999219 \r\nL 43.78125 10.999219 \r\nz\r\n\" style=\"fill:#ffffff;\"/>\r\n   </g>\r\n   <g id=\"matplotlib.axis_1\">\r\n    <g id=\"xtick_1\">\r\n     <g id=\"line2d_1\">\r\n      <defs>\r\n       <path d=\"M 0 0 \r\nL 0 3.5 \r\n\" id=\"m07196eccce\" style=\"stroke:#000000;stroke-width:0.8;\"/>\r\n      </defs>\r\n      <g>\r\n       <use style=\"stroke:#000000;stroke-width:0.8;\" x=\"58.999432\" xlink:href=\"#m07196eccce\" y=\"228.439219\"/>\r\n      </g>\r\n     </g>\r\n     <g id=\"text_1\">\r\n      <!-- 0 -->\r\n      <g transform=\"translate(55.818182 243.037656)scale(0.1 -0.1)\">\r\n       <defs>\r\n        <path d=\"M 2034 4250 \r\nQ 1547 4250 1301 3770 \r\nQ 1056 3291 1056 2328 \r\nQ 1056 1369 1301 889 \r\nQ 1547 409 2034 409 \r\nQ 2525 409 2770 889 \r\nQ 3016 1369 3016 2328 \r\nQ 3016 3291 2770 3770 \r\nQ 2525 4250 2034 4250 \r\nz\r\nM 2034 4750 \r\nQ 2819 4750 3233 4129 \r\nQ 3647 3509 3647 2328 \r\nQ 3647 1150 3233 529 \r\nQ 2819 -91 2034 -91 \r\nQ 1250 -91 836 529 \r\nQ 422 1150 422 2328 \r\nQ 422 3509 836 4129 \r\nQ 1250 4750 2034 4750 \r\nz\r\n\" id=\"DejaVuSans-30\" transform=\"scale(0.015625)\"/>\r\n       </defs>\r\n       <use xlink:href=\"#DejaVuSans-30\"/>\r\n      </g>\r\n     </g>\r\n    </g>\r\n    <g id=\"xtick_2\">\r\n     <g id=\"line2d_2\">\r\n      <g>\r\n       <use style=\"stroke:#000000;stroke-width:0.8;\" x=\"120.487035\" xlink:href=\"#m07196eccce\" y=\"228.439219\"/>\r\n      </g>\r\n     </g>\r\n     <g id=\"text_2\">\r\n      <!-- 20 -->\r\n      <g transform=\"translate(114.124535 243.037656)scale(0.1 -0.1)\">\r\n       <defs>\r\n        <path d=\"M 1228 531 \r\nL 3431 531 \r\nL 3431 0 \r\nL 469 0 \r\nL 469 531 \r\nQ 828 903 1448 1529 \r\nQ 2069 2156 2228 2338 \r\nQ 2531 2678 2651 2914 \r\nQ 2772 3150 2772 3378 \r\nQ 2772 3750 2511 3984 \r\nQ 2250 4219 1831 4219 \r\nQ 1534 4219 1204 4116 \r\nQ 875 4013 500 3803 \r\nL 500 4441 \r\nQ 881 4594 1212 4672 \r\nQ 1544 4750 1819 4750 \r\nQ 2544 4750 2975 4387 \r\nQ 3406 4025 3406 3419 \r\nQ 3406 3131 3298 2873 \r\nQ 3191 2616 2906 2266 \r\nQ 2828 2175 2409 1742 \r\nQ 1991 1309 1228 531 \r\nz\r\n\" id=\"DejaVuSans-32\" transform=\"scale(0.015625)\"/>\r\n       </defs>\r\n       <use xlink:href=\"#DejaVuSans-32\"/>\r\n       <use x=\"63.623047\" xlink:href=\"#DejaVuSans-30\"/>\r\n      </g>\r\n     </g>\r\n    </g>\r\n    <g id=\"xtick_3\">\r\n     <g id=\"line2d_3\">\r\n      <g>\r\n       <use style=\"stroke:#000000;stroke-width:0.8;\" x=\"181.974638\" xlink:href=\"#m07196eccce\" y=\"228.439219\"/>\r\n      </g>\r\n     </g>\r\n     <g id=\"text_3\">\r\n      <!-- 40 -->\r\n      <g transform=\"translate(175.612138 243.037656)scale(0.1 -0.1)\">\r\n       <defs>\r\n        <path d=\"M 2419 4116 \r\nL 825 1625 \r\nL 2419 1625 \r\nL 2419 4116 \r\nz\r\nM 2253 4666 \r\nL 3047 4666 \r\nL 3047 1625 \r\nL 3713 1625 \r\nL 3713 1100 \r\nL 3047 1100 \r\nL 3047 0 \r\nL 2419 0 \r\nL 2419 1100 \r\nL 313 1100 \r\nL 313 1709 \r\nL 2253 4666 \r\nz\r\n\" id=\"DejaVuSans-34\" transform=\"scale(0.015625)\"/>\r\n       </defs>\r\n       <use xlink:href=\"#DejaVuSans-34\"/>\r\n       <use x=\"63.623047\" xlink:href=\"#DejaVuSans-30\"/>\r\n      </g>\r\n     </g>\r\n    </g>\r\n    <g id=\"xtick_4\">\r\n     <g id=\"line2d_4\">\r\n      <g>\r\n       <use style=\"stroke:#000000;stroke-width:0.8;\" x=\"243.462242\" xlink:href=\"#m07196eccce\" y=\"228.439219\"/>\r\n      </g>\r\n     </g>\r\n     <g id=\"text_4\">\r\n      <!-- 60 -->\r\n      <g transform=\"translate(237.099742 243.037656)scale(0.1 -0.1)\">\r\n       <defs>\r\n        <path d=\"M 2113 2584 \r\nQ 1688 2584 1439 2293 \r\nQ 1191 2003 1191 1497 \r\nQ 1191 994 1439 701 \r\nQ 1688 409 2113 409 \r\nQ 2538 409 2786 701 \r\nQ 3034 994 3034 1497 \r\nQ 3034 2003 2786 2293 \r\nQ 2538 2584 2113 2584 \r\nz\r\nM 3366 4563 \r\nL 3366 3988 \r\nQ 3128 4100 2886 4159 \r\nQ 2644 4219 2406 4219 \r\nQ 1781 4219 1451 3797 \r\nQ 1122 3375 1075 2522 \r\nQ 1259 2794 1537 2939 \r\nQ 1816 3084 2150 3084 \r\nQ 2853 3084 3261 2657 \r\nQ 3669 2231 3669 1497 \r\nQ 3669 778 3244 343 \r\nQ 2819 -91 2113 -91 \r\nQ 1303 -91 875 529 \r\nQ 447 1150 447 2328 \r\nQ 447 3434 972 4092 \r\nQ 1497 4750 2381 4750 \r\nQ 2619 4750 2861 4703 \r\nQ 3103 4656 3366 4563 \r\nz\r\n\" id=\"DejaVuSans-36\" transform=\"scale(0.015625)\"/>\r\n       </defs>\r\n       <use xlink:href=\"#DejaVuSans-36\"/>\r\n       <use x=\"63.623047\" xlink:href=\"#DejaVuSans-30\"/>\r\n      </g>\r\n     </g>\r\n    </g>\r\n    <g id=\"xtick_5\">\r\n     <g id=\"line2d_5\">\r\n      <g>\r\n       <use style=\"stroke:#000000;stroke-width:0.8;\" x=\"304.949845\" xlink:href=\"#m07196eccce\" y=\"228.439219\"/>\r\n      </g>\r\n     </g>\r\n     <g id=\"text_5\">\r\n      <!-- 80 -->\r\n      <g transform=\"translate(298.587345 243.037656)scale(0.1 -0.1)\">\r\n       <defs>\r\n        <path d=\"M 2034 2216 \r\nQ 1584 2216 1326 1975 \r\nQ 1069 1734 1069 1313 \r\nQ 1069 891 1326 650 \r\nQ 1584 409 2034 409 \r\nQ 2484 409 2743 651 \r\nQ 3003 894 3003 1313 \r\nQ 3003 1734 2745 1975 \r\nQ 2488 2216 2034 2216 \r\nz\r\nM 1403 2484 \r\nQ 997 2584 770 2862 \r\nQ 544 3141 544 3541 \r\nQ 544 4100 942 4425 \r\nQ 1341 4750 2034 4750 \r\nQ 2731 4750 3128 4425 \r\nQ 3525 4100 3525 3541 \r\nQ 3525 3141 3298 2862 \r\nQ 3072 2584 2669 2484 \r\nQ 3125 2378 3379 2068 \r\nQ 3634 1759 3634 1313 \r\nQ 3634 634 3220 271 \r\nQ 2806 -91 2034 -91 \r\nQ 1263 -91 848 271 \r\nQ 434 634 434 1313 \r\nQ 434 1759 690 2068 \r\nQ 947 2378 1403 2484 \r\nz\r\nM 1172 3481 \r\nQ 1172 3119 1398 2916 \r\nQ 1625 2713 2034 2713 \r\nQ 2441 2713 2670 2916 \r\nQ 2900 3119 2900 3481 \r\nQ 2900 3844 2670 4047 \r\nQ 2441 4250 2034 4250 \r\nQ 1625 4250 1398 4047 \r\nQ 1172 3844 1172 3481 \r\nz\r\n\" id=\"DejaVuSans-38\" transform=\"scale(0.015625)\"/>\r\n       </defs>\r\n       <use xlink:href=\"#DejaVuSans-38\"/>\r\n       <use x=\"63.623047\" xlink:href=\"#DejaVuSans-30\"/>\r\n      </g>\r\n     </g>\r\n    </g>\r\n    <g id=\"xtick_6\">\r\n     <g id=\"line2d_6\">\r\n      <g>\r\n       <use style=\"stroke:#000000;stroke-width:0.8;\" x=\"366.437448\" xlink:href=\"#m07196eccce\" y=\"228.439219\"/>\r\n      </g>\r\n     </g>\r\n     <g id=\"text_6\">\r\n      <!-- 100 -->\r\n      <g transform=\"translate(356.893698 243.037656)scale(0.1 -0.1)\">\r\n       <defs>\r\n        <path d=\"M 794 531 \r\nL 1825 531 \r\nL 1825 4091 \r\nL 703 3866 \r\nL 703 4441 \r\nL 1819 4666 \r\nL 2450 4666 \r\nL 2450 531 \r\nL 3481 531 \r\nL 3481 0 \r\nL 794 0 \r\nL 794 531 \r\nz\r\n\" id=\"DejaVuSans-31\" transform=\"scale(0.015625)\"/>\r\n       </defs>\r\n       <use xlink:href=\"#DejaVuSans-31\"/>\r\n       <use x=\"63.623047\" xlink:href=\"#DejaVuSans-30\"/>\r\n       <use x=\"127.246094\" xlink:href=\"#DejaVuSans-30\"/>\r\n      </g>\r\n     </g>\r\n    </g>\r\n    <g id=\"text_7\">\r\n     <!-- Epoch -->\r\n     <g transform=\"translate(195.870313 256.715781)scale(0.1 -0.1)\">\r\n      <defs>\r\n       <path d=\"M 628 4666 \r\nL 3578 4666 \r\nL 3578 4134 \r\nL 1259 4134 \r\nL 1259 2753 \r\nL 3481 2753 \r\nL 3481 2222 \r\nL 1259 2222 \r\nL 1259 531 \r\nL 3634 531 \r\nL 3634 0 \r\nL 628 0 \r\nL 628 4666 \r\nz\r\n\" id=\"DejaVuSans-45\" transform=\"scale(0.015625)\"/>\r\n       <path d=\"M 1159 525 \r\nL 1159 -1331 \r\nL 581 -1331 \r\nL 581 3500 \r\nL 1159 3500 \r\nL 1159 2969 \r\nQ 1341 3281 1617 3432 \r\nQ 1894 3584 2278 3584 \r\nQ 2916 3584 3314 3078 \r\nQ 3713 2572 3713 1747 \r\nQ 3713 922 3314 415 \r\nQ 2916 -91 2278 -91 \r\nQ 1894 -91 1617 61 \r\nQ 1341 213 1159 525 \r\nz\r\nM 3116 1747 \r\nQ 3116 2381 2855 2742 \r\nQ 2594 3103 2138 3103 \r\nQ 1681 3103 1420 2742 \r\nQ 1159 2381 1159 1747 \r\nQ 1159 1113 1420 752 \r\nQ 1681 391 2138 391 \r\nQ 2594 391 2855 752 \r\nQ 3116 1113 3116 1747 \r\nz\r\n\" id=\"DejaVuSans-70\" transform=\"scale(0.015625)\"/>\r\n       <path d=\"M 1959 3097 \r\nQ 1497 3097 1228 2736 \r\nQ 959 2375 959 1747 \r\nQ 959 1119 1226 758 \r\nQ 1494 397 1959 397 \r\nQ 2419 397 2687 759 \r\nQ 2956 1122 2956 1747 \r\nQ 2956 2369 2687 2733 \r\nQ 2419 3097 1959 3097 \r\nz\r\nM 1959 3584 \r\nQ 2709 3584 3137 3096 \r\nQ 3566 2609 3566 1747 \r\nQ 3566 888 3137 398 \r\nQ 2709 -91 1959 -91 \r\nQ 1206 -91 779 398 \r\nQ 353 888 353 1747 \r\nQ 353 2609 779 3096 \r\nQ 1206 3584 1959 3584 \r\nz\r\n\" id=\"DejaVuSans-6f\" transform=\"scale(0.015625)\"/>\r\n       <path d=\"M 3122 3366 \r\nL 3122 2828 \r\nQ 2878 2963 2633 3030 \r\nQ 2388 3097 2138 3097 \r\nQ 1578 3097 1268 2742 \r\nQ 959 2388 959 1747 \r\nQ 959 1106 1268 751 \r\nQ 1578 397 2138 397 \r\nQ 2388 397 2633 464 \r\nQ 2878 531 3122 666 \r\nL 3122 134 \r\nQ 2881 22 2623 -34 \r\nQ 2366 -91 2075 -91 \r\nQ 1284 -91 818 406 \r\nQ 353 903 353 1747 \r\nQ 353 2603 823 3093 \r\nQ 1294 3584 2113 3584 \r\nQ 2378 3584 2631 3529 \r\nQ 2884 3475 3122 3366 \r\nz\r\n\" id=\"DejaVuSans-63\" transform=\"scale(0.015625)\"/>\r\n       <path d=\"M 3513 2113 \r\nL 3513 0 \r\nL 2938 0 \r\nL 2938 2094 \r\nQ 2938 2591 2744 2837 \r\nQ 2550 3084 2163 3084 \r\nQ 1697 3084 1428 2787 \r\nQ 1159 2491 1159 1978 \r\nL 1159 0 \r\nL 581 0 \r\nL 581 4863 \r\nL 1159 4863 \r\nL 1159 2956 \r\nQ 1366 3272 1645 3428 \r\nQ 1925 3584 2291 3584 \r\nQ 2894 3584 3203 3211 \r\nQ 3513 2838 3513 2113 \r\nz\r\n\" id=\"DejaVuSans-68\" transform=\"scale(0.015625)\"/>\r\n      </defs>\r\n      <use xlink:href=\"#DejaVuSans-45\"/>\r\n      <use x=\"63.183594\" xlink:href=\"#DejaVuSans-70\"/>\r\n      <use x=\"126.660156\" xlink:href=\"#DejaVuSans-6f\"/>\r\n      <use x=\"187.841797\" xlink:href=\"#DejaVuSans-63\"/>\r\n      <use x=\"242.822266\" xlink:href=\"#DejaVuSans-68\"/>\r\n     </g>\r\n    </g>\r\n   </g>\r\n   <g id=\"matplotlib.axis_2\">\r\n    <g id=\"ytick_1\">\r\n     <g id=\"line2d_7\">\r\n      <defs>\r\n       <path d=\"M 0 0 \r\nL -3.5 0 \r\n\" id=\"m0ada9fee73\" style=\"stroke:#000000;stroke-width:0.8;\"/>\r\n      </defs>\r\n      <g>\r\n       <use style=\"stroke:#000000;stroke-width:0.8;\" x=\"43.78125\" xlink:href=\"#m0ada9fee73\" y=\"228.439219\"/>\r\n      </g>\r\n     </g>\r\n     <g id=\"text_8\">\r\n      <!-- 0.2 -->\r\n      <g transform=\"translate(20.878125 232.238437)scale(0.1 -0.1)\">\r\n       <defs>\r\n        <path d=\"M 684 794 \r\nL 1344 794 \r\nL 1344 0 \r\nL 684 0 \r\nL 684 794 \r\nz\r\n\" id=\"DejaVuSans-2e\" transform=\"scale(0.015625)\"/>\r\n       </defs>\r\n       <use xlink:href=\"#DejaVuSans-30\"/>\r\n       <use x=\"63.623047\" xlink:href=\"#DejaVuSans-2e\"/>\r\n       <use x=\"95.410156\" xlink:href=\"#DejaVuSans-32\"/>\r\n      </g>\r\n     </g>\r\n    </g>\r\n    <g id=\"ytick_2\">\r\n     <g id=\"line2d_8\">\r\n      <g>\r\n       <use style=\"stroke:#000000;stroke-width:0.8;\" x=\"43.78125\" xlink:href=\"#m0ada9fee73\" y=\"201.259219\"/>\r\n      </g>\r\n     </g>\r\n     <g id=\"text_9\">\r\n      <!-- 0.3 -->\r\n      <g transform=\"translate(20.878125 205.058437)scale(0.1 -0.1)\">\r\n       <defs>\r\n        <path d=\"M 2597 2516 \r\nQ 3050 2419 3304 2112 \r\nQ 3559 1806 3559 1356 \r\nQ 3559 666 3084 287 \r\nQ 2609 -91 1734 -91 \r\nQ 1441 -91 1130 -33 \r\nQ 819 25 488 141 \r\nL 488 750 \r\nQ 750 597 1062 519 \r\nQ 1375 441 1716 441 \r\nQ 2309 441 2620 675 \r\nQ 2931 909 2931 1356 \r\nQ 2931 1769 2642 2001 \r\nQ 2353 2234 1838 2234 \r\nL 1294 2234 \r\nL 1294 2753 \r\nL 1863 2753 \r\nQ 2328 2753 2575 2939 \r\nQ 2822 3125 2822 3475 \r\nQ 2822 3834 2567 4026 \r\nQ 2313 4219 1838 4219 \r\nQ 1578 4219 1281 4162 \r\nQ 984 4106 628 3988 \r\nL 628 4550 \r\nQ 988 4650 1302 4700 \r\nQ 1616 4750 1894 4750 \r\nQ 2613 4750 3031 4423 \r\nQ 3450 4097 3450 3541 \r\nQ 3450 3153 3228 2886 \r\nQ 3006 2619 2597 2516 \r\nz\r\n\" id=\"DejaVuSans-33\" transform=\"scale(0.015625)\"/>\r\n       </defs>\r\n       <use xlink:href=\"#DejaVuSans-30\"/>\r\n       <use x=\"63.623047\" xlink:href=\"#DejaVuSans-2e\"/>\r\n       <use x=\"95.410156\" xlink:href=\"#DejaVuSans-33\"/>\r\n      </g>\r\n     </g>\r\n    </g>\r\n    <g id=\"ytick_3\">\r\n     <g id=\"line2d_9\">\r\n      <g>\r\n       <use style=\"stroke:#000000;stroke-width:0.8;\" x=\"43.78125\" xlink:href=\"#m0ada9fee73\" y=\"174.079219\"/>\r\n      </g>\r\n     </g>\r\n     <g id=\"text_10\">\r\n      <!-- 0.4 -->\r\n      <g transform=\"translate(20.878125 177.878437)scale(0.1 -0.1)\">\r\n       <use xlink:href=\"#DejaVuSans-30\"/>\r\n       <use x=\"63.623047\" xlink:href=\"#DejaVuSans-2e\"/>\r\n       <use x=\"95.410156\" xlink:href=\"#DejaVuSans-34\"/>\r\n      </g>\r\n     </g>\r\n    </g>\r\n    <g id=\"ytick_4\">\r\n     <g id=\"line2d_10\">\r\n      <g>\r\n       <use style=\"stroke:#000000;stroke-width:0.8;\" x=\"43.78125\" xlink:href=\"#m0ada9fee73\" y=\"146.899219\"/>\r\n      </g>\r\n     </g>\r\n     <g id=\"text_11\">\r\n      <!-- 0.5 -->\r\n      <g transform=\"translate(20.878125 150.698437)scale(0.1 -0.1)\">\r\n       <defs>\r\n        <path d=\"M 691 4666 \r\nL 3169 4666 \r\nL 3169 4134 \r\nL 1269 4134 \r\nL 1269 2991 \r\nQ 1406 3038 1543 3061 \r\nQ 1681 3084 1819 3084 \r\nQ 2600 3084 3056 2656 \r\nQ 3513 2228 3513 1497 \r\nQ 3513 744 3044 326 \r\nQ 2575 -91 1722 -91 \r\nQ 1428 -91 1123 -41 \r\nQ 819 9 494 109 \r\nL 494 744 \r\nQ 775 591 1075 516 \r\nQ 1375 441 1709 441 \r\nQ 2250 441 2565 725 \r\nQ 2881 1009 2881 1497 \r\nQ 2881 1984 2565 2268 \r\nQ 2250 2553 1709 2553 \r\nQ 1456 2553 1204 2497 \r\nQ 953 2441 691 2322 \r\nL 691 4666 \r\nz\r\n\" id=\"DejaVuSans-35\" transform=\"scale(0.015625)\"/>\r\n       </defs>\r\n       <use xlink:href=\"#DejaVuSans-30\"/>\r\n       <use x=\"63.623047\" xlink:href=\"#DejaVuSans-2e\"/>\r\n       <use x=\"95.410156\" xlink:href=\"#DejaVuSans-35\"/>\r\n      </g>\r\n     </g>\r\n    </g>\r\n    <g id=\"ytick_5\">\r\n     <g id=\"line2d_11\">\r\n      <g>\r\n       <use style=\"stroke:#000000;stroke-width:0.8;\" x=\"43.78125\" xlink:href=\"#m0ada9fee73\" y=\"119.719219\"/>\r\n      </g>\r\n     </g>\r\n     <g id=\"text_12\">\r\n      <!-- 0.6 -->\r\n      <g transform=\"translate(20.878125 123.518437)scale(0.1 -0.1)\">\r\n       <use xlink:href=\"#DejaVuSans-30\"/>\r\n       <use x=\"63.623047\" xlink:href=\"#DejaVuSans-2e\"/>\r\n       <use x=\"95.410156\" xlink:href=\"#DejaVuSans-36\"/>\r\n      </g>\r\n     </g>\r\n    </g>\r\n    <g id=\"ytick_6\">\r\n     <g id=\"line2d_12\">\r\n      <g>\r\n       <use style=\"stroke:#000000;stroke-width:0.8;\" x=\"43.78125\" xlink:href=\"#m0ada9fee73\" y=\"92.539219\"/>\r\n      </g>\r\n     </g>\r\n     <g id=\"text_13\">\r\n      <!-- 0.7 -->\r\n      <g transform=\"translate(20.878125 96.338437)scale(0.1 -0.1)\">\r\n       <defs>\r\n        <path d=\"M 525 4666 \r\nL 3525 4666 \r\nL 3525 4397 \r\nL 1831 0 \r\nL 1172 0 \r\nL 2766 4134 \r\nL 525 4134 \r\nL 525 4666 \r\nz\r\n\" id=\"DejaVuSans-37\" transform=\"scale(0.015625)\"/>\r\n       </defs>\r\n       <use xlink:href=\"#DejaVuSans-30\"/>\r\n       <use x=\"63.623047\" xlink:href=\"#DejaVuSans-2e\"/>\r\n       <use x=\"95.410156\" xlink:href=\"#DejaVuSans-37\"/>\r\n      </g>\r\n     </g>\r\n    </g>\r\n    <g id=\"ytick_7\">\r\n     <g id=\"line2d_13\">\r\n      <g>\r\n       <use style=\"stroke:#000000;stroke-width:0.8;\" x=\"43.78125\" xlink:href=\"#m0ada9fee73\" y=\"65.359219\"/>\r\n      </g>\r\n     </g>\r\n     <g id=\"text_14\">\r\n      <!-- 0.8 -->\r\n      <g transform=\"translate(20.878125 69.158437)scale(0.1 -0.1)\">\r\n       <use xlink:href=\"#DejaVuSans-30\"/>\r\n       <use x=\"63.623047\" xlink:href=\"#DejaVuSans-2e\"/>\r\n       <use x=\"95.410156\" xlink:href=\"#DejaVuSans-38\"/>\r\n      </g>\r\n     </g>\r\n    </g>\r\n    <g id=\"ytick_8\">\r\n     <g id=\"line2d_14\">\r\n      <g>\r\n       <use style=\"stroke:#000000;stroke-width:0.8;\" x=\"43.78125\" xlink:href=\"#m0ada9fee73\" y=\"38.179219\"/>\r\n      </g>\r\n     </g>\r\n     <g id=\"text_15\">\r\n      <!-- 0.9 -->\r\n      <g transform=\"translate(20.878125 41.978437)scale(0.1 -0.1)\">\r\n       <defs>\r\n        <path d=\"M 703 97 \r\nL 703 672 \r\nQ 941 559 1184 500 \r\nQ 1428 441 1663 441 \r\nQ 2288 441 2617 861 \r\nQ 2947 1281 2994 2138 \r\nQ 2813 1869 2534 1725 \r\nQ 2256 1581 1919 1581 \r\nQ 1219 1581 811 2004 \r\nQ 403 2428 403 3163 \r\nQ 403 3881 828 4315 \r\nQ 1253 4750 1959 4750 \r\nQ 2769 4750 3195 4129 \r\nQ 3622 3509 3622 2328 \r\nQ 3622 1225 3098 567 \r\nQ 2575 -91 1691 -91 \r\nQ 1453 -91 1209 -44 \r\nQ 966 3 703 97 \r\nz\r\nM 1959 2075 \r\nQ 2384 2075 2632 2365 \r\nQ 2881 2656 2881 3163 \r\nQ 2881 3666 2632 3958 \r\nQ 2384 4250 1959 4250 \r\nQ 1534 4250 1286 3958 \r\nQ 1038 3666 1038 3163 \r\nQ 1038 2656 1286 2365 \r\nQ 1534 2075 1959 2075 \r\nz\r\n\" id=\"DejaVuSans-39\" transform=\"scale(0.015625)\"/>\r\n       </defs>\r\n       <use xlink:href=\"#DejaVuSans-30\"/>\r\n       <use x=\"63.623047\" xlink:href=\"#DejaVuSans-2e\"/>\r\n       <use x=\"95.410156\" xlink:href=\"#DejaVuSans-39\"/>\r\n      </g>\r\n     </g>\r\n    </g>\r\n    <g id=\"ytick_9\">\r\n     <g id=\"line2d_15\">\r\n      <g>\r\n       <use style=\"stroke:#000000;stroke-width:0.8;\" x=\"43.78125\" xlink:href=\"#m0ada9fee73\" y=\"10.999219\"/>\r\n      </g>\r\n     </g>\r\n     <g id=\"text_16\">\r\n      <!-- 1.0 -->\r\n      <g transform=\"translate(20.878125 14.798437)scale(0.1 -0.1)\">\r\n       <use xlink:href=\"#DejaVuSans-31\"/>\r\n       <use x=\"63.623047\" xlink:href=\"#DejaVuSans-2e\"/>\r\n       <use x=\"95.410156\" xlink:href=\"#DejaVuSans-30\"/>\r\n      </g>\r\n     </g>\r\n    </g>\r\n    <g id=\"text_17\">\r\n     <!-- Accuracy -->\r\n     <g transform=\"translate(14.798438 142.547344)rotate(-90)scale(0.1 -0.1)\">\r\n      <defs>\r\n       <path d=\"M 2188 4044 \r\nL 1331 1722 \r\nL 3047 1722 \r\nL 2188 4044 \r\nz\r\nM 1831 4666 \r\nL 2547 4666 \r\nL 4325 0 \r\nL 3669 0 \r\nL 3244 1197 \r\nL 1141 1197 \r\nL 716 0 \r\nL 50 0 \r\nL 1831 4666 \r\nz\r\n\" id=\"DejaVuSans-41\" transform=\"scale(0.015625)\"/>\r\n       <path d=\"M 544 1381 \r\nL 544 3500 \r\nL 1119 3500 \r\nL 1119 1403 \r\nQ 1119 906 1312 657 \r\nQ 1506 409 1894 409 \r\nQ 2359 409 2629 706 \r\nQ 2900 1003 2900 1516 \r\nL 2900 3500 \r\nL 3475 3500 \r\nL 3475 0 \r\nL 2900 0 \r\nL 2900 538 \r\nQ 2691 219 2414 64 \r\nQ 2138 -91 1772 -91 \r\nQ 1169 -91 856 284 \r\nQ 544 659 544 1381 \r\nz\r\nM 1991 3584 \r\nL 1991 3584 \r\nz\r\n\" id=\"DejaVuSans-75\" transform=\"scale(0.015625)\"/>\r\n       <path d=\"M 2631 2963 \r\nQ 2534 3019 2420 3045 \r\nQ 2306 3072 2169 3072 \r\nQ 1681 3072 1420 2755 \r\nQ 1159 2438 1159 1844 \r\nL 1159 0 \r\nL 581 0 \r\nL 581 3500 \r\nL 1159 3500 \r\nL 1159 2956 \r\nQ 1341 3275 1631 3429 \r\nQ 1922 3584 2338 3584 \r\nQ 2397 3584 2469 3576 \r\nQ 2541 3569 2628 3553 \r\nL 2631 2963 \r\nz\r\n\" id=\"DejaVuSans-72\" transform=\"scale(0.015625)\"/>\r\n       <path d=\"M 2194 1759 \r\nQ 1497 1759 1228 1600 \r\nQ 959 1441 959 1056 \r\nQ 959 750 1161 570 \r\nQ 1363 391 1709 391 \r\nQ 2188 391 2477 730 \r\nQ 2766 1069 2766 1631 \r\nL 2766 1759 \r\nL 2194 1759 \r\nz\r\nM 3341 1997 \r\nL 3341 0 \r\nL 2766 0 \r\nL 2766 531 \r\nQ 2569 213 2275 61 \r\nQ 1981 -91 1556 -91 \r\nQ 1019 -91 701 211 \r\nQ 384 513 384 1019 \r\nQ 384 1609 779 1909 \r\nQ 1175 2209 1959 2209 \r\nL 2766 2209 \r\nL 2766 2266 \r\nQ 2766 2663 2505 2880 \r\nQ 2244 3097 1772 3097 \r\nQ 1472 3097 1187 3025 \r\nQ 903 2953 641 2809 \r\nL 641 3341 \r\nQ 956 3463 1253 3523 \r\nQ 1550 3584 1831 3584 \r\nQ 2591 3584 2966 3190 \r\nQ 3341 2797 3341 1997 \r\nz\r\n\" id=\"DejaVuSans-61\" transform=\"scale(0.015625)\"/>\r\n       <path d=\"M 2059 -325 \r\nQ 1816 -950 1584 -1140 \r\nQ 1353 -1331 966 -1331 \r\nL 506 -1331 \r\nL 506 -850 \r\nL 844 -850 \r\nQ 1081 -850 1212 -737 \r\nQ 1344 -625 1503 -206 \r\nL 1606 56 \r\nL 191 3500 \r\nL 800 3500 \r\nL 1894 763 \r\nL 2988 3500 \r\nL 3597 3500 \r\nL 2059 -325 \r\nz\r\n\" id=\"DejaVuSans-79\" transform=\"scale(0.015625)\"/>\r\n      </defs>\r\n      <use xlink:href=\"#DejaVuSans-41\"/>\r\n      <use x=\"66.658203\" xlink:href=\"#DejaVuSans-63\"/>\r\n      <use x=\"121.638672\" xlink:href=\"#DejaVuSans-63\"/>\r\n      <use x=\"176.619141\" xlink:href=\"#DejaVuSans-75\"/>\r\n      <use x=\"239.998047\" xlink:href=\"#DejaVuSans-72\"/>\r\n      <use x=\"281.111328\" xlink:href=\"#DejaVuSans-61\"/>\r\n      <use x=\"342.390625\" xlink:href=\"#DejaVuSans-63\"/>\r\n      <use x=\"397.371094\" xlink:href=\"#DejaVuSans-79\"/>\r\n     </g>\r\n    </g>\r\n   </g>\r\n   <g id=\"line2d_16\">\r\n    <path clip-path=\"url(#p87bdaae13f)\" d=\"M 58.999432 228.727328 \r\nL 62.073812 173.51931 \r\nL 65.148192 148.464791 \r\nL 68.222572 133.510345 \r\nL 71.296952 121.290227 \r\nL 74.371333 114.071217 \r\nL 77.445713 106.526041 \r\nL 80.520093 100.687787 \r\nL 83.594473 95.360498 \r\nL 86.668853 91.794483 \r\nL 89.743233 87.211933 \r\nL 92.817614 83.227345 \r\nL 95.891994 81.460643 \r\nL 98.966374 79.052497 \r\nL 102.040754 76.731332 \r\nL 105.115134 74.562371 \r\nL 108.189514 72.920689 \r\nL 111.263895 70.409265 \r\nL 114.338275 69.273137 \r\nL 117.412655 67.674953 \r\nL 120.487035 65.891954 \r\nL 123.561415 64.826493 \r\nL 126.635795 63.896938 \r\nL 129.710176 62.956513 \r\nL 132.784556 61.77146 \r\nL 135.858936 61.162627 \r\nL 138.933316 60.015629 \r\nL 142.007696 58.401131 \r\nL 145.082076 57.498761 \r\nL 148.156457 56.955168 \r\nL 151.230837 56.156076 \r\nL 154.305217 55.318929 \r\nL 157.379597 54.655728 \r\nL 160.453977 54.383931 \r\nL 163.528357 53.612024 \r\nL 166.602738 52.388915 \r\nL 169.677118 51.829008 \r\nL 172.751498 52.089951 \r\nL 175.825878 51.100583 \r\nL 178.900258 50.910324 \r\nL 181.974638 49.948158 \r\nL 185.049019 48.605473 \r\nL 188.123399 48.60003 \r\nL 191.197779 48.268437 \r\nL 194.272159 47.251902 \r\nL 197.346539 46.534347 \r\nL 200.420919 46.523477 \r\nL 203.4953 46.670254 \r\nL 206.56968 45.96357 \r\nL 209.64406 45.414533 \r\nL 212.71844 44.474108 \r\nL 215.79282 44.528461 \r\nL 218.8672 43.582608 \r\nL 221.941581 43.381479 \r\nL 225.015961 42.941148 \r\nL 228.090341 43.718499 \r\nL 231.164721 42.794387 \r\nL 234.239101 42.321445 \r\nL 237.313481 41.250556 \r\nL 240.387862 41.060297 \r\nL 243.462242 41.549537 \r\nL 246.536622 41.147278 \r\nL 249.611002 41.788722 \r\nL 252.685382 39.804577 \r\nL 255.759762 40.918964 \r\nL 258.834143 40.581928 \r\nL 261.908523 39.391447 \r\nL 264.982903 38.5543 \r\nL 268.057283 39.375133 \r\nL 271.131663 37.722597 \r\nL 274.206043 39.288169 \r\nL 277.280424 38.113986 \r\nL 280.354804 37.36382 \r\nL 283.429184 37.831319 \r\nL 286.503564 37.798691 \r\nL 289.577944 37.08658 \r\nL 292.652324 36.907191 \r\nL 295.726705 37.135505 \r\nL 298.801085 35.961339 \r\nL 301.875465 36.548414 \r\nL 304.949845 35.771063 \r\nL 308.024225 35.656914 \r\nL 311.098605 35.580804 \r\nL 314.172986 35.43947 \r\nL 317.247366 35.336192 \r\nL 320.321746 35.069823 \r\nL 323.396126 36.276617 \r\nL 326.470506 34.971971 \r\nL 329.544886 33.906527 \r\nL 332.619267 33.982621 \r\nL 335.693647 33.56949 \r\nL 338.768027 33.83586 \r\nL 341.842407 34.064174 \r\nL 344.916787 33.574934 \r\nL 347.991167 33.248768 \r\nL 351.065548 33.091121 \r\nL 354.139928 32.264845 \r\nL 357.214308 34.053287 \r\nL 360.288688 32.471418 \r\nL 363.363068 32.786713 \r\n\" style=\"fill:none;stroke:#1f77b4;stroke-linecap:square;stroke-width:1.5;\"/>\r\n   </g>\r\n   <g id=\"line2d_17\">\r\n    <path clip-path=\"url(#p87bdaae13f)\" d=\"M 58.999432 184.407622 \r\nL 62.073812 145.947923 \r\nL 65.148192 135.48362 \r\nL 68.222572 128.579905 \r\nL 71.296952 116.974047 \r\nL 74.371333 101.50862 \r\nL 77.445713 103.791746 \r\nL 80.520093 97.839327 \r\nL 83.594473 90.745336 \r\nL 86.668853 87.918617 \r\nL 89.743233 85.200619 \r\nL 92.817614 82.890325 \r\nL 95.891994 84.439583 \r\nL 98.966374 75.850703 \r\nL 102.040754 76.204037 \r\nL 105.115134 74.138354 \r\nL 108.189514 75.93224 \r\nL 111.263895 73.948095 \r\nL 114.338275 70.849579 \r\nL 117.412655 71.230098 \r\nL 120.487035 71.230098 \r\nL 123.561415 69.952636 \r\nL 126.635795 68.593638 \r\nL 129.710176 64.40792 \r\nL 132.784556 66.55514 \r\nL 135.858936 65.060234 \r\nL 138.933316 66.55514 \r\nL 142.007696 61.5812 \r\nL 145.082076 63.076105 \r\nL 148.156457 65.332031 \r\nL 151.230837 64.924344 \r\nL 154.305217 67.153102 \r\nL 157.379597 65.794103 \r\nL 160.453977 62.2607 \r\nL 163.528357 63.945864 \r\nL 166.602738 63.184811 \r\nL 169.677118 61.988903 \r\nL 172.751498 62.179162 \r\nL 175.825878 60.956054 \r\nL 178.900258 60.847332 \r\nL 181.974638 63.809958 \r\nL 185.049019 63.157643 \r\nL 188.123399 61.390941 \r\nL 191.197779 64.054586 \r\nL 194.272159 60.956054 \r\nL 197.346539 61.119145 \r\nL 200.420919 61.744275 \r\nL 203.4953 63.565346 \r\nL 206.56968 61.037591 \r\nL 209.64406 62.559681 \r\nL 212.71844 60.956054 \r\nL 215.79282 60.820164 \r\nL 218.8672 64.081754 \r\nL 221.941581 61.825812 \r\nL 225.015961 61.200682 \r\nL 228.090341 58.482685 \r\nL 231.164721 58.564222 \r\nL 234.239101 62.74994 \r\nL 237.313481 59.515518 \r\nL 240.387862 57.449835 \r\nL 243.462242 59.135 \r\nL 246.536622 60.167833 \r\nL 249.611002 58.238056 \r\nL 252.685382 57.694463 \r\nL 255.759762 61.282219 \r\nL 258.834143 62.450959 \r\nL 261.908523 59.896036 \r\nL 264.982903 58.808834 \r\nL 268.057283 60.249386 \r\nL 271.131663 58.754481 \r\nL 274.206043 59.406796 \r\nL 277.280424 58.428316 \r\nL 280.354804 57.341113 \r\nL 283.429184 58.373963 \r\nL 286.503564 57.014964 \r\nL 289.577944 56.417002 \r\nL 292.652324 59.461165 \r\nL 295.726705 60.358092 \r\nL 298.801085 58.781666 \r\nL 301.875465 57.911891 \r\nL 304.949845 58.672944 \r\nL 308.024225 61.472479 \r\nL 311.098605 59.379611 \r\nL 314.172986 57.096501 \r\nL 317.247366 62.913015 \r\nL 320.321746 59.977574 \r\nL 323.396126 59.107815 \r\nL 326.470506 58.672944 \r\nL 329.544886 57.640094 \r\nL 332.619267 58.509853 \r\nL 335.693647 59.406796 \r\nL 338.768027 58.537037 \r\nL 341.842407 58.102166 \r\nL 344.916787 58.401131 \r\nL 347.991167 60.684257 \r\nL 351.065548 58.781666 \r\nL 354.139928 60.004758 \r\nL 357.214308 58.4555 \r\nL 360.288688 55.81904 \r\nL 363.363068 58.509853 \r\n\" style=\"fill:none;stroke:#ff7f0e;stroke-linecap:square;stroke-width:1.5;\"/>\r\n   </g>\r\n   <g id=\"patch_3\">\r\n    <path d=\"M 43.78125 228.439219 \r\nL 43.78125 10.999219 \r\n\" style=\"fill:none;stroke:#000000;stroke-linecap:square;stroke-linejoin:miter;stroke-width:0.8;\"/>\r\n   </g>\r\n   <g id=\"patch_4\">\r\n    <path d=\"M 378.58125 228.439219 \r\nL 378.58125 10.999219 \r\n\" style=\"fill:none;stroke:#000000;stroke-linecap:square;stroke-linejoin:miter;stroke-width:0.8;\"/>\r\n   </g>\r\n   <g id=\"patch_5\">\r\n    <path d=\"M 43.78125 228.439219 \r\nL 378.58125 228.439219 \r\n\" style=\"fill:none;stroke:#000000;stroke-linecap:square;stroke-linejoin:miter;stroke-width:0.8;\"/>\r\n   </g>\r\n   <g id=\"patch_6\">\r\n    <path d=\"M 43.78125 10.999219 \r\nL 378.58125 10.999219 \r\n\" style=\"fill:none;stroke:#000000;stroke-linecap:square;stroke-linejoin:miter;stroke-width:0.8;\"/>\r\n   </g>\r\n   <g id=\"legend_1\">\r\n    <g id=\"patch_7\">\r\n     <path d=\"M 274.6375 223.439219 \r\nL 371.58125 223.439219 \r\nQ 373.58125 223.439219 373.58125 221.439219 \r\nL 373.58125 192.804844 \r\nQ 373.58125 190.804844 371.58125 190.804844 \r\nL 274.6375 190.804844 \r\nQ 272.6375 190.804844 272.6375 192.804844 \r\nL 272.6375 221.439219 \r\nQ 272.6375 223.439219 274.6375 223.439219 \r\nz\r\n\" style=\"fill:#ffffff;opacity:0.8;stroke:#cccccc;stroke-linejoin:miter;\"/>\r\n    </g>\r\n    <g id=\"line2d_18\">\r\n     <path d=\"M 276.6375 198.903281 \r\nL 296.6375 198.903281 \r\n\" style=\"fill:none;stroke:#1f77b4;stroke-linecap:square;stroke-width:1.5;\"/>\r\n    </g>\r\n    <g id=\"line2d_19\"/>\r\n    <g id=\"text_18\">\r\n     <!-- accuracy -->\r\n     <g transform=\"translate(304.6375 202.403281)scale(0.1 -0.1)\">\r\n      <use xlink:href=\"#DejaVuSans-61\"/>\r\n      <use x=\"61.279297\" xlink:href=\"#DejaVuSans-63\"/>\r\n      <use x=\"116.259766\" xlink:href=\"#DejaVuSans-63\"/>\r\n      <use x=\"171.240234\" xlink:href=\"#DejaVuSans-75\"/>\r\n      <use x=\"234.619141\" xlink:href=\"#DejaVuSans-72\"/>\r\n      <use x=\"275.732422\" xlink:href=\"#DejaVuSans-61\"/>\r\n      <use x=\"337.011719\" xlink:href=\"#DejaVuSans-63\"/>\r\n      <use x=\"391.992188\" xlink:href=\"#DejaVuSans-79\"/>\r\n     </g>\r\n    </g>\r\n    <g id=\"line2d_20\">\r\n     <path d=\"M 276.6375 213.581406 \r\nL 296.6375 213.581406 \r\n\" style=\"fill:none;stroke:#ff7f0e;stroke-linecap:square;stroke-width:1.5;\"/>\r\n    </g>\r\n    <g id=\"line2d_21\"/>\r\n    <g id=\"text_19\">\r\n     <!-- val_accuracy -->\r\n     <g transform=\"translate(304.6375 217.081406)scale(0.1 -0.1)\">\r\n      <defs>\r\n       <path d=\"M 191 3500 \r\nL 800 3500 \r\nL 1894 563 \r\nL 2988 3500 \r\nL 3597 3500 \r\nL 2284 0 \r\nL 1503 0 \r\nL 191 3500 \r\nz\r\n\" id=\"DejaVuSans-76\" transform=\"scale(0.015625)\"/>\r\n       <path d=\"M 603 4863 \r\nL 1178 4863 \r\nL 1178 0 \r\nL 603 0 \r\nL 603 4863 \r\nz\r\n\" id=\"DejaVuSans-6c\" transform=\"scale(0.015625)\"/>\r\n       <path d=\"M 3263 -1063 \r\nL 3263 -1509 \r\nL -63 -1509 \r\nL -63 -1063 \r\nL 3263 -1063 \r\nz\r\n\" id=\"DejaVuSans-5f\" transform=\"scale(0.015625)\"/>\r\n      </defs>\r\n      <use xlink:href=\"#DejaVuSans-76\"/>\r\n      <use x=\"59.179688\" xlink:href=\"#DejaVuSans-61\"/>\r\n      <use x=\"120.458984\" xlink:href=\"#DejaVuSans-6c\"/>\r\n      <use x=\"148.242188\" xlink:href=\"#DejaVuSans-5f\"/>\r\n      <use x=\"198.242188\" xlink:href=\"#DejaVuSans-61\"/>\r\n      <use x=\"259.521484\" xlink:href=\"#DejaVuSans-63\"/>\r\n      <use x=\"314.501953\" xlink:href=\"#DejaVuSans-63\"/>\r\n      <use x=\"369.482422\" xlink:href=\"#DejaVuSans-75\"/>\r\n      <use x=\"432.861328\" xlink:href=\"#DejaVuSans-72\"/>\r\n      <use x=\"473.974609\" xlink:href=\"#DejaVuSans-61\"/>\r\n      <use x=\"535.253906\" xlink:href=\"#DejaVuSans-63\"/>\r\n      <use x=\"590.234375\" xlink:href=\"#DejaVuSans-79\"/>\r\n     </g>\r\n    </g>\r\n   </g>\r\n  </g>\r\n </g>\r\n <defs>\r\n  <clipPath id=\"p87bdaae13f\">\r\n   <rect height=\"217.44\" width=\"334.8\" x=\"43.78125\" y=\"10.999219\"/>\r\n  </clipPath>\r\n </defs>\r\n</svg>\r\n",
      "image/png": "[encoded data removed]"
     },
     "metadata": {
      "needs_background": "light"
     }
    }
   ],
   "source": [
    "plt.plot(history.history['accuracy'], label='accuracy')\n",
    "plt.plot(history.history['val_accuracy'], label = 'val_accuracy')\n",
    "plt.xlabel('Epoch')\n",
    "plt.ylabel('Accuracy')\n",
    "plt.ylim([0.2, 1])\n",
    "plt.legend(loc='lower right')\n",
    "\n",
    "test_loss, test_acc = model.evaluate(test_images,  test_labels, verbose=2)"
   ]
  },
  {
   "cell_type": "code",
   "execution_count": 12,
   "metadata": {},
   "outputs": [
    {
     "output_type": "stream",
     "name": "stdout",
     "text": [
      "0.8252000212669373\n"
     ]
    }
   ],
   "source": [
    "print(test_acc)"
   ]
  },
  {
   "cell_type": "code",
   "execution_count": 13,
   "metadata": {},
   "outputs": [
    {
     "output_type": "stream",
     "name": "stdout",
     "text": [
      "[0.25266000628471375, 0.4457400143146515, 0.5361199975013733, 0.5998200178146362, 0.643779993057251, 0.6831200122833252, 0.707099974155426, 0.7286199927330017, 0.7439200282096863, 0.7574399709701538, 0.7708799839019775, 0.7815600037574768, 0.7926999926567078, 0.7988600134849548, 0.8072400093078613, 0.8120999932289124, 0.8206200003623962, 0.8245999813079834, 0.8306199908256531, 0.8341799974441528, 0.8399800062179565, 0.844760000705719, 0.8507400155067444, 0.8512600064277649, 0.8576200008392334, 0.8605999946594238, 0.8622400164604187, 0.8662199974060059, 0.8691400289535522, 0.8704400062561035, 0.8755599856376648, 0.8738999962806702, 0.8790000081062317, 0.8813599944114685, 0.8852199912071228, 0.8893399834632874, 0.8872600197792053, 0.8920199871063232, 0.8938800096511841, 0.8950999975204468, 0.8970400094985962, 0.8995199799537659, 0.8972399830818176, 0.9046000242233276, 0.9017999768257141, 0.9046599864959717, 0.9079200029373169, 0.9100599884986877, 0.9123200178146362, 0.9112600088119507, 0.9126200079917908, 0.9158400297164917, 0.9164999723434448, 0.9181399941444397, 0.9204199910163879, 0.9181600213050842, 0.9233400225639343, 0.919700026512146, 0.9243199825286865, 0.9224799871444702, 0.9238799810409546, 0.9263200163841248, 0.9264799952507019, 0.9261999726295471, 0.9282400012016296, 0.9289199709892273, 0.9317799806594849, 0.9284600019454956, 0.9304999709129333, 0.9322999715805054, 0.9351199865341187, 0.934220016002655, 0.9349200129508972, 0.9371399879455566, 0.9335600137710571, 0.9375200271606445, 0.9380800127983093, 0.9400200247764587, 0.9362999796867371, 0.9363399744033813, 0.9381399750709534, 0.9414799809455872, 0.9381399750709534, 0.9394199848175049, 0.9420400261878967, 0.9428399801254272, 0.9417799711227417, 0.9426000118255615, 0.9445800185203552, 0.9447600245475769, 0.9427400231361389, 0.9453999996185303, 0.9437599778175354, 0.9458600282669067, 0.9467200040817261, 0.946340024471283, 0.9473999738693237, 0.9466999769210815, 0.9480400085449219, 0.9492200016975403]\n"
     ]
    }
   ],
   "source": [
    "print(history.history['accuracy'])"
   ]
  },
  {
   "cell_type": "code",
   "execution_count": null,
   "metadata": {},
   "outputs": [],
   "source": []
  },
  {
   "cell_type": "code",
   "execution_count": null,
   "metadata": {},
   "outputs": [],
   "source": []
  }
 ]
}