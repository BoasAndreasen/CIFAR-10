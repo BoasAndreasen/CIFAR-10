{
  "nbformat": 4,
  "nbformat_minor": 0,
  "metadata": {
    "colab": {
      "name": "Kopi af Untitled0.ipynb",
      "provenance": [],
      "collapsed_sections": []
    },
    "kernelspec": {
      "display_name": "Python 3",
      "name": "python3"
    },
    "language_info": {
      "name": "python"
    }
  },
  "cells": [
    {
      "cell_type": "code",
      "metadata": {
        "id": "YzL1IC8eOPDQ"
      },
      "source": [
        "# Example Material Source: https://www.tensorflow.org/tutorials/images/cnn\n",
        "import tensorflow as tf\n",
        "\n",
        "from tensorflow.keras import datasets, layers, models, Sequential\n",
        "from keras.utils import np_utils\n",
        "import matplotlib.pyplot as plt\n",
        "import math"
      ],
      "execution_count": null,
      "outputs": []
    },
    {
      "cell_type": "code",
      "metadata": {
        "colab": {
          "base_uri": "https://localhost:8080/"
        },
        "id": "xbAEh5LcCqur",
        "outputId": "592d749e-9d60-47ef-ee57-c6402debeeb3"
      },
      "source": [
        "(train_images, train_labels), (test_images, test_labels) = datasets.cifar10.load_data()\n",
        "\n",
        "train_images = train_images.reshape(train_images.shape[0], 32, 32, 3)\n",
        "test_images = test_images.reshape(test_images.shape[0], 32, 32, 3)\n",
        "\n",
        "##one hot encoding\n",
        "train_labels = np_utils.to_categorical(train_labels,10)\n",
        "test_labels = np_utils.to_categorical(test_labels,10)"
      ],
      "execution_count": null,
      "outputs": [
        {
          "output_type": "stream",
          "text": [
            "Downloading data from https://www.cs.toronto.edu/~kriz/cifar-10-python.tar.gz\n",
            "170500096/170498071 [==============================] - 6s 0us/step\n"
          ],
          "name": "stdout"
        }
      ]
    },
    {
      "cell_type": "code",
      "metadata": {
        "id": "5iySwgojlRPx"
      },
      "source": [
        "# Normalize pixel values to be between 0 and 1\n",
        "train_images, test_images = train_images / 255.0, test_images / 255.0\n",
        "##train_images, test_images = preProcess(train_images), preProcess(test_images)\n",
        "##train_images, test_images = contrastCurve(train_images), contrastCurve(test_images)\n",
        "\n",
        "class_names = ['airplane', 'automobile', 'bird', 'cat', 'deer',\n",
        "               'dog', 'frog', 'horse', 'ship', 'truck']\n"
      ],
      "execution_count": null,
      "outputs": []
    },
    {
      "cell_type": "code",
      "metadata": {
        "id": "bvclWucXIJDz"
      },
      "source": [
        "## Transforming images to get a larger test set\n",
        "\n",
        "data_augmentation = Sequential(\n",
        "  [\n",
        "    layers.experimental.preprocessing.RandomFlip(\"horizontal\",\n",
        "    input_shape=(32,32,3)),\n",
        "    layers.experimental.preprocessing.RandomRotation(0.05),\n",
        "    layers.experimental.preprocessing.RandomZoom(0.05),\n",
        "    layers.experimental.preprocessing.RandomContrast(0.05),\n",
        "  ]\n",
        ")"
      ],
      "execution_count": 8,
      "outputs": []
    },
    {
      "cell_type": "code",
      "metadata": {
        "id": "uWtQ1MYDmosw"
      },
      "source": [
        "\n",
        "model = models.Sequential()\n",
        "model.add(data_augmentation)\n",
        "\n",
        "model.add(layers.Conv2D(64, (3, 3), activation='relu', padding = \"same\", input_shape=(32, 32, 3)))\n",
        "model.add(layers.BatchNormalization())\n",
        "\n",
        "model.add(layers.Conv2D(128, (3, 3), activation='relu', padding = \"same\"))\n",
        "model.add(layers.BatchNormalization())\n",
        "model.add(layers.MaxPooling2D((2, 2), padding='same'))\n",
        "model.add(layers.Dropout(0.2))\n",
        "\n",
        "model.add(layers.Conv2D(128, (3, 3), activation='relu', padding = \"same\"))\n",
        "model.add(layers.BatchNormalization())\n",
        "model.add(layers.MaxPooling2D((2, 2), padding='same'))\n",
        "model.add(layers.Dropout(0.1))\n",
        "\n",
        "model.add(layers.Conv2D(128, (3, 3), activation='relu', padding = \"same\"))\n",
        "model.add(layers.BatchNormalization())\n",
        "model.add(layers.MaxPooling2D((2, 2), padding='same'))\n",
        "model.add(layers.Dropout(0.2))\n",
        "\n",
        "model.add(layers.Conv2D(128, (3, 3), activation='relu', padding = \"same\"))\n",
        "model.add(layers.BatchNormalization())\n",
        "model.add(layers.Dropout(0.1))\n",
        "\n",
        "model.add(layers.Conv2D(128, (3, 3), activation='relu', padding = \"same\"))\n",
        "model.add(layers.BatchNormalization())\n",
        "model.add(layers.MaxPooling2D((2, 2), padding='same'))\n",
        "model.add(layers.Dropout(0.1))\n",
        "\n",
        "model.add(layers.Conv2D(128, (3, 3), activation='relu', padding = \"same\"))\n",
        "model.add(layers.BatchNormalization())\n",
        "model.add(layers.MaxPooling2D((2, 2), padding='same'))\n",
        "model.add(layers.Dropout(0.2))\n",
        "\n",
        "model.add(layers.Conv2D(128, (3, 3), activation='relu', padding = \"same\"))\n",
        "model.add(layers.BatchNormalization())\n",
        "model.add(layers.MaxPooling2D((2, 2), padding='same'))\n",
        "model.add(layers.Dropout(0.2))\n",
        "\n",
        "model.add(layers.Conv2D(128, (3, 3), activation='relu', padding = \"same\"))\n",
        "model.add(layers.BatchNormalization())\n",
        "model.add(layers.Dropout(0.1))\n",
        "\n",
        "model.add(layers.Conv2D(128, (1, 1), activation='relu', padding = \"same\"))\n",
        "model.add(layers.BatchNormalization())\n",
        "model.add(layers.Dropout(0.2))\n",
        "\n",
        "model.add(layers.Conv2D(128, (1, 1), activation='relu', padding = \"same\"))\n",
        "model.add(layers.BatchNormalization())\n",
        "model.add(layers.MaxPooling2D((2, 2), padding='same'))\n",
        "model.add(layers.Dropout(0.2))\n",
        "\n",
        "model.add(layers.Conv2D(128, (3, 3), activation='relu', padding = \"same\"))\n",
        "model.add(layers.BatchNormalization())\n",
        "model.add(layers.MaxPooling2D((2, 2), padding='same'))\n",
        "\n",
        "model.add(layers.Flatten())\n",
        "model.add(layers.Dense(128,activation=\"relu\"))\n",
        "model.add(layers.Dense(10,activation=\"softmax\"))\n",
        "\n"
      ],
      "execution_count": 17,
      "outputs": []
    },
    {
      "cell_type": "code",
      "metadata": {
        "colab": {
          "base_uri": "https://localhost:8080/"
        },
        "id": "CjvtFYeBIcNb",
        "outputId": "1adfd020-c725-49b4-91fe-8b016cc46aed"
      },
      "source": [
        "model.summary()"
      ],
      "execution_count": 18,
      "outputs": [
        {
          "output_type": "stream",
          "text": [
            "Model: \"sequential_6\"\n",
            "_________________________________________________________________\n",
            "Layer (type)                 Output Shape              Param #   \n",
            "=================================================================\n",
            "sequential_2 (Sequential)    (None, 32, 32, 3)         0         \n",
            "_________________________________________________________________\n",
            "conv2d_48 (Conv2D)           (None, 32, 32, 64)        1792      \n",
            "_________________________________________________________________\n",
            "batch_normalization_48 (Batc (None, 32, 32, 64)        256       \n",
            "_________________________________________________________________\n",
            "conv2d_49 (Conv2D)           (None, 32, 32, 128)       73856     \n",
            "_________________________________________________________________\n",
            "batch_normalization_49 (Batc (None, 32, 32, 128)       512       \n",
            "_________________________________________________________________\n",
            "max_pooling2d_32 (MaxPooling (None, 16, 16, 128)       0         \n",
            "_________________________________________________________________\n",
            "dropout_10 (Dropout)         (None, 16, 16, 128)       0         \n",
            "_________________________________________________________________\n",
            "conv2d_50 (Conv2D)           (None, 16, 16, 128)       147584    \n",
            "_________________________________________________________________\n",
            "batch_normalization_50 (Batc (None, 16, 16, 128)       512       \n",
            "_________________________________________________________________\n",
            "max_pooling2d_33 (MaxPooling (None, 8, 8, 128)         0         \n",
            "_________________________________________________________________\n",
            "dropout_11 (Dropout)         (None, 8, 8, 128)         0         \n",
            "_________________________________________________________________\n",
            "conv2d_51 (Conv2D)           (None, 8, 8, 128)         147584    \n",
            "_________________________________________________________________\n",
            "batch_normalization_51 (Batc (None, 8, 8, 128)         512       \n",
            "_________________________________________________________________\n",
            "max_pooling2d_34 (MaxPooling (None, 4, 4, 128)         0         \n",
            "_________________________________________________________________\n",
            "dropout_12 (Dropout)         (None, 4, 4, 128)         0         \n",
            "_________________________________________________________________\n",
            "conv2d_52 (Conv2D)           (None, 4, 4, 128)         147584    \n",
            "_________________________________________________________________\n",
            "batch_normalization_52 (Batc (None, 4, 4, 128)         512       \n",
            "_________________________________________________________________\n",
            "dropout_13 (Dropout)         (None, 4, 4, 128)         0         \n",
            "_________________________________________________________________\n",
            "conv2d_53 (Conv2D)           (None, 4, 4, 128)         147584    \n",
            "_________________________________________________________________\n",
            "batch_normalization_53 (Batc (None, 4, 4, 128)         512       \n",
            "_________________________________________________________________\n",
            "max_pooling2d_35 (MaxPooling (None, 2, 2, 128)         0         \n",
            "_________________________________________________________________\n",
            "dropout_14 (Dropout)         (None, 2, 2, 128)         0         \n",
            "_________________________________________________________________\n",
            "conv2d_54 (Conv2D)           (None, 2, 2, 128)         147584    \n",
            "_________________________________________________________________\n",
            "batch_normalization_54 (Batc (None, 2, 2, 128)         512       \n",
            "_________________________________________________________________\n",
            "max_pooling2d_36 (MaxPooling (None, 1, 1, 128)         0         \n",
            "_________________________________________________________________\n",
            "dropout_15 (Dropout)         (None, 1, 1, 128)         0         \n",
            "_________________________________________________________________\n",
            "conv2d_55 (Conv2D)           (None, 1, 1, 128)         147584    \n",
            "_________________________________________________________________\n",
            "batch_normalization_55 (Batc (None, 1, 1, 128)         512       \n",
            "_________________________________________________________________\n",
            "max_pooling2d_37 (MaxPooling (None, 1, 1, 128)         0         \n",
            "_________________________________________________________________\n",
            "dropout_16 (Dropout)         (None, 1, 1, 128)         0         \n",
            "_________________________________________________________________\n",
            "conv2d_56 (Conv2D)           (None, 1, 1, 128)         147584    \n",
            "_________________________________________________________________\n",
            "batch_normalization_56 (Batc (None, 1, 1, 128)         512       \n",
            "_________________________________________________________________\n",
            "dropout_17 (Dropout)         (None, 1, 1, 128)         0         \n",
            "_________________________________________________________________\n",
            "conv2d_57 (Conv2D)           (None, 1, 1, 128)         16512     \n",
            "_________________________________________________________________\n",
            "batch_normalization_57 (Batc (None, 1, 1, 128)         512       \n",
            "_________________________________________________________________\n",
            "dropout_18 (Dropout)         (None, 1, 1, 128)         0         \n",
            "_________________________________________________________________\n",
            "conv2d_58 (Conv2D)           (None, 1, 1, 128)         16512     \n",
            "_________________________________________________________________\n",
            "batch_normalization_58 (Batc (None, 1, 1, 128)         512       \n",
            "_________________________________________________________________\n",
            "max_pooling2d_38 (MaxPooling (None, 1, 1, 128)         0         \n",
            "_________________________________________________________________\n",
            "dropout_19 (Dropout)         (None, 1, 1, 128)         0         \n",
            "_________________________________________________________________\n",
            "conv2d_59 (Conv2D)           (None, 1, 1, 128)         147584    \n",
            "_________________________________________________________________\n",
            "batch_normalization_59 (Batc (None, 1, 1, 128)         512       \n",
            "_________________________________________________________________\n",
            "max_pooling2d_39 (MaxPooling (None, 1, 1, 128)         0         \n",
            "_________________________________________________________________\n",
            "flatten_4 (Flatten)          (None, 128)               0         \n",
            "_________________________________________________________________\n",
            "dense_6 (Dense)              (None, 128)               16512     \n",
            "_________________________________________________________________\n",
            "dense_7 (Dense)              (None, 10)                1290      \n",
            "=================================================================\n",
            "Total params: 1,313,034\n",
            "Trainable params: 1,310,090\n",
            "Non-trainable params: 2,944\n",
            "_________________________________________________________________\n"
          ],
          "name": "stdout"
        }
      ]
    },
    {
      "cell_type": "code",
      "metadata": {
        "colab": {
          "base_uri": "https://localhost:8080/"
        },
        "id": "yDD16OcEoDsK",
        "outputId": "b8668d45-3cc5-4e4e-8d83-4448187e0070"
      },
      "source": [
        "model.compile(optimizer='adam',\n",
        "              loss=tf.keras.losses.CategoricalCrossentropy(from_logits=True),\n",
        "              metrics=['accuracy'])\n",
        "\n",
        "history = model.fit(train_images, train_labels, epochs=25, \n",
        "                    validation_data=(test_images, test_labels))"
      ],
      "execution_count": 19,
      "outputs": [
        {
          "output_type": "stream",
          "text": [
            "Epoch 1/25\n",
            "1563/1563 [==============================] - 918s 586ms/step - loss: 1.9847 - accuracy: 0.2689 - val_loss: 1.7341 - val_accuracy: 0.4024\n",
            "Epoch 2/25\n",
            "1563/1563 [==============================] - 906s 580ms/step - loss: 1.4062 - accuracy: 0.4923 - val_loss: 1.2887 - val_accuracy: 0.5717\n",
            "Epoch 3/25\n",
            "1563/1563 [==============================] - 900s 576ms/step - loss: 1.1920 - accuracy: 0.5858 - val_loss: 1.3631 - val_accuracy: 0.5299\n",
            "Epoch 4/25\n",
            "1563/1563 [==============================] - 909s 582ms/step - loss: 1.0572 - accuracy: 0.6393 - val_loss: 0.9526 - val_accuracy: 0.6761\n",
            "Epoch 5/25\n",
            "1563/1563 [==============================] - 936s 599ms/step - loss: 0.9514 - accuracy: 0.6816 - val_loss: 0.8741 - val_accuracy: 0.7010\n",
            "Epoch 6/25\n",
            "1563/1563 [==============================] - 926s 593ms/step - loss: 0.8893 - accuracy: 0.7056 - val_loss: 0.9126 - val_accuracy: 0.7043\n",
            "Epoch 7/25\n",
            "1563/1563 [==============================] - 917s 587ms/step - loss: 0.8330 - accuracy: 0.7235 - val_loss: 0.7280 - val_accuracy: 0.7590\n",
            "Epoch 8/25\n",
            "1563/1563 [==============================] - 930s 595ms/step - loss: 0.7715 - accuracy: 0.7455 - val_loss: 0.7204 - val_accuracy: 0.7529\n",
            "Epoch 9/25\n",
            "1563/1563 [==============================] - 938s 600ms/step - loss: 0.7476 - accuracy: 0.7527 - val_loss: 0.6771 - val_accuracy: 0.7706\n",
            "Epoch 10/25\n",
            "1563/1563 [==============================] - 938s 600ms/step - loss: 0.7066 - accuracy: 0.7706 - val_loss: 0.6242 - val_accuracy: 0.7968\n",
            "Epoch 11/25\n",
            "1563/1563 [==============================] - 935s 598ms/step - loss: 0.6769 - accuracy: 0.7767 - val_loss: 0.7080 - val_accuracy: 0.7656\n",
            "Epoch 12/25\n",
            "1563/1563 [==============================] - 914s 585ms/step - loss: 0.6683 - accuracy: 0.7806 - val_loss: 0.6426 - val_accuracy: 0.7840\n",
            "Epoch 13/25\n",
            "1563/1563 [==============================] - 920s 589ms/step - loss: 0.6339 - accuracy: 0.7924 - val_loss: 0.6040 - val_accuracy: 0.8001\n",
            "Epoch 14/25\n",
            "1563/1563 [==============================] - 929s 594ms/step - loss: 0.6215 - accuracy: 0.7945 - val_loss: 0.6077 - val_accuracy: 0.7944\n",
            "Epoch 15/25\n",
            "1563/1563 [==============================] - 918s 587ms/step - loss: 0.5907 - accuracy: 0.8084 - val_loss: 0.5926 - val_accuracy: 0.8078\n",
            "Epoch 16/25\n",
            "1563/1563 [==============================] - 909s 582ms/step - loss: 0.5812 - accuracy: 0.8085 - val_loss: 0.5106 - val_accuracy: 0.8315\n",
            "Epoch 17/25\n",
            "1563/1563 [==============================] - 941s 602ms/step - loss: 0.5585 - accuracy: 0.8185 - val_loss: 0.5147 - val_accuracy: 0.8299\n",
            "Epoch 18/25\n",
            "1563/1563 [==============================] - 924s 591ms/step - loss: 0.5572 - accuracy: 0.8182 - val_loss: 0.6459 - val_accuracy: 0.7849\n",
            "Epoch 19/25\n",
            "1563/1563 [==============================] - 921s 589ms/step - loss: 0.5553 - accuracy: 0.8183 - val_loss: 0.4866 - val_accuracy: 0.8372\n",
            "Epoch 20/25\n",
            "1563/1563 [==============================] - 917s 587ms/step - loss: 0.5401 - accuracy: 0.8256 - val_loss: 0.5975 - val_accuracy: 0.7981\n",
            "Epoch 21/25\n",
            "1563/1563 [==============================] - 903s 578ms/step - loss: 0.5206 - accuracy: 0.8324 - val_loss: 0.5814 - val_accuracy: 0.8105\n",
            "Epoch 22/25\n",
            "1563/1563 [==============================] - 893s 572ms/step - loss: 0.5096 - accuracy: 0.8309 - val_loss: 0.4917 - val_accuracy: 0.8414\n",
            "Epoch 23/25\n",
            "1563/1563 [==============================] - 893s 571ms/step - loss: 0.4919 - accuracy: 0.8386 - val_loss: 0.4833 - val_accuracy: 0.8438\n",
            "Epoch 24/25\n",
            "1563/1563 [==============================] - 886s 567ms/step - loss: 0.4918 - accuracy: 0.8391 - val_loss: 0.5036 - val_accuracy: 0.8337\n",
            "Epoch 25/25\n",
            "1563/1563 [==============================] - 886s 567ms/step - loss: 0.4713 - accuracy: 0.8462 - val_loss: 0.4667 - val_accuracy: 0.8406\n"
          ],
          "name": "stdout"
        }
      ]
    },
    {
      "cell_type": "code",
      "metadata": {
        "colab": {
          "base_uri": "https://localhost:8080/",
          "height": 300
        },
        "id": "K9yAU416panx",
        "outputId": "7c1744e3-72e5-4fb8-dedc-ece781ad2bbd"
      },
      "source": [
        "plt.plot(history.history['accuracy'], label='accuracy')\n",
        "plt.plot(history.history['val_accuracy'], label = 'val_accuracy')\n",
        "plt.xlabel('Epoch')\n",
        "plt.ylabel('Accuracy')\n",
        "plt.ylim([0.5, 1])\n",
        "plt.legend(loc='lower right')\n",
        "\n",
        "test_loss, test_acc = model.evaluate(test_images,  test_labels, verbose=2)"
      ],
      "execution_count": null,
      "outputs": [
        {
          "output_type": "stream",
          "text": [
            "313/313 - 33s - loss: 0.7238 - accuracy: 0.7680\n"
          ],
          "name": "stdout"
        },
        {
          "output_type": "display_data",
          "data": {
            "image/png": "[encoded data removed]",
            "text/plain": [
              "<Figure size 432x288 with 1 Axes>"
            ]
          },
          "metadata": {
            "tags": []
          }
        }
      ]
    },
    {
      "cell_type": "code",
      "metadata": {
        "colab": {
          "base_uri": "https://localhost:8080/"
        },
        "id": "INO6OpoOpgcn",
        "outputId": "cd70c333-3428-414d-9dff-8ba31798f927"
      },
      "source": [
        "print(test_acc)"
      ],
      "execution_count": null,
      "outputs": [
        {
          "output_type": "stream",
          "text": [
            "0.7056999802589417\n"
          ],
          "name": "stdout"
        }
      ]
    }
  ]
}